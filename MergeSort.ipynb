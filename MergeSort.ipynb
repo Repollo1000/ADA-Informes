{
  "nbformat": 4,
  "nbformat_minor": 0,
  "metadata": {
    "colab": {
      "name": "MergeSort.ipynb",
      "provenance": [],
      "authorship_tag": "ABX9TyNeCht6QgCc934SbmtRrCtp",
      "include_colab_link": true
    },
    "kernelspec": {
      "name": "python3",
      "display_name": "Python 3"
    },
    "language_info": {
      "name": "python"
    }
  },
  "cells": [
    {
      "cell_type": "markdown",
      "metadata": {
        "id": "view-in-github",
        "colab_type": "text"
      },
      "source": [
        "<a href=\"https://colab.research.google.com/github/Repollo1000/ADA-Informes/blob/main/MergeSort.ipynb\" target=\"_parent\"><img src=\"https://colab.research.google.com/assets/colab-badge.svg\" alt=\"Open In Colab\"/></a>"
      ]
    },
    {
      "cell_type": "markdown",
      "source": [
        "# **1.Descripción del problema**\n",
        "El problema de ordenamiento cosiste en una entrada de n numeros desordenados donde la salida de los numeros tiene que estar ordenado de menor a mayor o al revés.\n",
        "\n",
        "Ejemplo:\n",
        "```\n",
        "Entrada:  [5, 2, 4, 6, 1, 3] \n",
        "Salida:  [1, 2, 3, 4, 5, 6]\n",
        "```"
      ],
      "metadata": {
        "id": "NQ8-x8xYlu4t"
      }
    },
    {
      "cell_type": "markdown",
      "source": [
        "# **2.Descripción del algoritmo Merge Sort**\n",
        "\n",
        "Es un algoritmo con la estrategia divide y venceras, desarrollado en 1945 por John Von Neumann.\n",
        "\n",
        "El algoritmo, que tiene como objetivo lograr ordenar los datos de entrada y ordenarlos con los mismos datos del arreglo origional de menor a mayor, este algoritmo usa el diseño de divide y venceras que conciste en dividir el problema al mismo pero mas pequeño para encontrar la solución.\n",
        "\n",
        "Este algoritmo divide en subsecuencias (n/2) para ordenar de manera recursiva y combinando la subsecuencias ordenadas para obtener una secuencia ordenada de **n** números.\n",
        "\n",
        "Lo curioso de este algoritmo que no es necesario interesarse sobre el peor o mejor caso, ya que no existe.\n",
        "\n",
        "### **Ejemplo paso a paso**\n",
        "\n",
        "Para estos pasos se usa una tecnica de dividir y conquistar, Primeros se divide el problema en sub problemas, Despues se solucionan en este caso del merge sort se ordena y finalmente se combina.\n",
        "\n",
        "Paso 1: El arreglo se divide en 2 sub arreglos.\n",
        "\n",
        "Paso 2: Se llama de nuevo la funcion mergesort hasta que un caso base se cumpla\n",
        "\n",
        "Paso 3: una vez que el caso base se cumpla se odena los datos.\n",
        "\n",
        "Paso 4: Los datos ordenados se guardan en el arreglo.\n",
        "\n",
        "\n",
        "\n",
        "\n"
      ],
      "metadata": {
        "id": "Ebzv6p9bl43Z"
      }
    },
    {
      "cell_type": "markdown",
      "source": [
        "# **3.Implementación del algoritmo**\n",
        "\n",
        "El siguiente código muestra una implementación del algoritmo **MergeSort**.\n",
        "\n",
        "\n"
      ],
      "metadata": {
        "id": "oCPDwLB-l5a-"
      }
    },
    {
      "cell_type": "code",
      "source": [
        "#def MergeSort(A, p, r):\n",
        " #  if p==r: return #la secuencia tiene sólo un elemento\n",
        "#  q = int((p+r)/2) #elemento medio del arreglo\n",
        " #  MergeSort(A,p,q) #ordena la parte izquierda del arreglo\n",
        "  # MergeSort(A,q+1,r) #ordena la parte derecha del arreglo\n",
        "   #Merge(A,p,q,r) #combina y ordena ambos subarreglos ordenados\n",
        "\n",
        "\n",
        "def merge_sort(inp_arr ):\n",
        "    size = len(inp_arr)\n",
        "    if size > 1:\n",
        "        middle = size // 2\n",
        "        left_arr = inp_arr[:middle]\n",
        "        right_arr = inp_arr[middle:]\n",
        " \n",
        "        merge_sort(left_arr)\n",
        "        merge_sort(right_arr)\n",
        " \n",
        "        p = 0\n",
        "        q = 0\n",
        "        r = 0\n",
        " \n",
        "        left_size = len(left_arr)\n",
        "        right_size = len(right_arr)\n",
        "        while p < left_size and q < right_size:\n",
        "            if left_arr[p] < right_arr[q]:\n",
        "              inp_arr[r] = left_arr[p]\n",
        "              p += 1\n",
        "            else:\n",
        "                inp_arr[r] = right_arr[q]\n",
        "                q += 1            \n",
        "            r += 1\n",
        "        while p < left_size:\n",
        "            inp_arr[r] = left_arr[p]\n",
        "            p += 1\n",
        "            r += 1\n",
        " \n",
        "        while q < right_size:\n",
        "            inp_arr[r]=right_arr[q]\n",
        "            q += 1\n",
        "            r += 1\n",
        " \n",
        "inp_arr = [11, 31, 7, 41, 101, 56, 77, 2]\n",
        "print(\"Input Array:\\n\")\n",
        "print(inp_arr)\n",
        "merge_sort(inp_arr)\n",
        "print(\"Sorted Array:\\n\")\n",
        "print(inp_arr)"
      ],
      "metadata": {
        "colab": {
          "base_uri": "https://localhost:8080/"
        },
        "id": "gnfmkaOlqq6T",
        "outputId": "ff489a0e-40f9-41a7-bc62-1d74ed02bff3"
      },
      "execution_count": null,
      "outputs": [
        {
          "output_type": "stream",
          "name": "stdout",
          "text": [
            "Input Array:\n",
            "\n",
            "[11, 31, 7, 41, 101, 56, 77, 2]\n",
            "Sorted Array:\n",
            "\n",
            "[2, 7, 11, 31, 41, 56, 77, 101]\n"
          ]
        }
      ]
    },
    {
      "cell_type": "markdown",
      "source": [
        "# **4.Tiempo de ejecución**\n",
        "\n",
        "El algoritmo MergeSort tiene un tiempo de ejecución de $O(n \\log n)$ en el peor caso.\n",
        "\n",
        "Para calcular el tiempo de ejecucion de este algoritmo que se basa en un dise;o de divide y venceras, entonces tenemos que tener en cuenta 2 cosas que en cada itercion el problema se va a dicidir en dos **(n\\2)** y la suma de cada nuvel es igual a **n**, ahora tenemos que tomar en cuenta que T(n)=O(nlog(n)), que es lo que nos queda si multiplicamos la altura con la cantidad de datos\n",
        "\n",
        "![merge_tree.gif](data:image/gif;base64,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)\n",
        "\n",
        "En la imagen se muestarcomo se construyo el arbol de recurrencia T(n) = 2T(\\n2) + cn, tambien se puede obserbar como expande progresivamente para formar el arbol. Tiene niveles lg n + 1 nivelesy cada nivel tiene un costo cnque en total es cn lg n + cn que es n lg n\n",
        "\n",
        "\n"
      ],
      "metadata": {
        "id": "8HZg5JadmLi9"
      }
    },
    {
      "cell_type": "markdown",
      "source": [
        "# **Correctitud del algoritmo**\n",
        "\n",
        "La objetivo de este algoritmo es ordenar los datos de entrada de menor a mayor\n",
        "\n",
        "Probaremos la correctitud con induccion matematica ya que el algoritmo es recursivo\n",
        "\n",
        "Para probar la correctitud nos debemos poner es dos casos principales, el primero es un caso base que es el caso mas sencillo que el problema puede tener y el inductivo que debemos probar que si el arreglo es de tama;o mayor a 0 el arreglo de salida debe estar ordenado.\n",
        "\n",
        "**Caso 1**\n",
        "\n",
        "Si **n = 1** significa que el arreglo tiene solo un dato, no hay manera de que el merge no lo retorne ordenado entonce podemos observar que cumple la hipotesis.\n",
        "\n",
        "**caso 2**\n",
        "\n",
        "Para este caso debemos recordar que este algoritmo es recursivo entonces si **m < n** el mergeSort tendra que dividir el arreglo en 2 generando subarreglos y m pasara a ser 2*(n/2) y se volvera a llamar la funcion mergeSort la veces que sea necesario para que el tama;o de los subarreglos se igal a uno, aqui es cuando entra la funcion merge que empeiza a ordenar los sub arreglos de tama;o 1 en un arreglo mas grande, al retornar el arreglo de n elementos de manera ordenada de menor a mayor podemos ver que tambien se cumple la hipotesis.\n",
        "\n",
        "gracias a la funcion merge que ordena los elemntos podemos demostrar que el MergeSort es correcto.\n",
        "\n",
        "\n",
        "\n",
        "\n"
      ],
      "metadata": {
        "id": "qzM1p5erQ1GP"
      }
    },
    {
      "cell_type": "markdown",
      "source": [
        "Propiedad invariante de bucle"
      ],
      "metadata": {
        "id": "4SHteUcau-87"
      }
    }
  ]
}