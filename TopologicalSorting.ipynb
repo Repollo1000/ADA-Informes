{
  "nbformat": 4,
  "nbformat_minor": 0,
  "metadata": {
    "colab": {
      "provenance": [],
      "authorship_tag": "ABX9TyNWI0+QWWBCEBSzCnN4HyDt",
      "include_colab_link": true
    },
    "kernelspec": {
      "name": "python3",
      "display_name": "Python 3"
    },
    "language_info": {
      "name": "python"
    }
  },
  "cells": [
    {
      "cell_type": "markdown",
      "metadata": {
        "id": "view-in-github",
        "colab_type": "text"
      },
      "source": [
        "<a href=\"https://colab.research.google.com/github/Repollo1000/ADA-Informes/blob/main/TopologicalSorting.ipynb\" target=\"_parent\"><img src=\"https://colab.research.google.com/assets/colab-badge.svg\" alt=\"Open In Colab\"/></a>"
      ]
    },
    {
      "cell_type": "markdown",
      "source": [
        "# **1.Descripción del problema(Ordenamiento topológico)**"
      ],
      "metadata": {
        "id": "kkB4CHpAvtNk"
      }
    },
    {
      "cell_type": "markdown",
      "source": [
        "El Ordenamiento topológico se define G que es un grafo con sus vertice y arcos.\n",
        "\n",
        "$G$ debe ser un grafo dirigido donde se le asigna $f(v)$ a cada vértice $v\\in V$.\n",
        "\n",
        "Para cada arco $(v,w)\\in E$, se cumple que $f(v)< f()$.\n",
        "\n",
        "El problema conciste en encintrar una secuencia para realizar tareas de cierta forma que las restricciones que existan con anterioridad sean respetadas.\n",
        "Por ejemplo la malla curricular de una carrera, donde debemos respetar el orden para cursar los ramos. \n",
        "\n",
        "**Entrada**: Grafo dirigido sin ciclos $G=(V,E)$.\n",
        "\n",
        "**Salida:** Un orden topológico de los vértices de $G$. Es decir, una asignación $f(v)$ a cada vértice $v\\in V$, tal que para cada arco $(v,w)\\in E$, se cumple que $f(v)<f(w)$.\n",
        "\n"
      ],
      "metadata": {
        "id": "NR9U9Vgwv0JV"
      }
    },
    {
      "cell_type": "markdown",
      "source": [
        "# **2.Descripción del algoritmo**"
      ],
      "metadata": {
        "id": "qczKnGpzV0MT"
      }
    },
    {
      "cell_type": "markdown",
      "source": [
        "El algoritmo de orden topológico realiza varias búsquedas en profundidad(**DFS**) a partir de nodos no explorados, en cada búsqueda realiza un recorrido post-orden(recorre primero las hojas y después los ancestros), cada vez que se visita un nodo se etiqueta con un contador decreciente que es inicializado con el total de nodos.\n",
        "\n",
        "Para que funcione correctamente el algoritmo Debemos tener un grafo dirigido sin ciclos(DAG)\n",
        "\n",
        "**Pasos**:\n",
        "\n",
        "1.   Crearemos una pila temporal que guardara el orden de los nodos\n",
        "2.   Llamamos el DFS de manera recursiva o no recursiva\n",
        "3.   iremos guardando los nodos en la pila generada\n",
        "4.   Una vez recorrido todos los nodos se retorna la pila que representa el orden topológico\n",
        "\n"
      ],
      "metadata": {
        "id": "CZkclxDEkPBO"
      }
    },
    {
      "cell_type": "markdown",
      "source": [
        "## **2.1.Ejemplo paso a paso**"
      ],
      "metadata": {
        "id": "Us3FrGbZrxCz"
      }
    },
    {
      "cell_type": "markdown",
      "source": [
        "\n",
        "foto\n",
        "\n"
      ],
      "metadata": {
        "id": "isbUGmXir8so"
      }
    },
    {
      "cell_type": "markdown",
      "source": [
        "creamos una pila para almacenar los nodos y otra para marcar si fueron visitados\n",
        "\n",
        "`[  |  |  |  |  |  ]`\n",
        "\n",
        "`[  |  |  |  |  |  ]`\n",
        "\n",
        "LLamamos a la funcion dfs que escoge un nodo en este caso es el 2\n",
        "\n",
        "Marcamos como visitado al nodo elegido y a los adyacentes\n",
        "\n",
        "`visitados = [2 |3 |1 |  |  |  ]`\n",
        "\n",
        "Los ingresamos a la pila\n",
        "\n",
        "`pila = [2 |3 |1 |  |  |  ]`\n",
        "\n",
        "se ingresan al arreglo que contiene los datos ordenados\n",
        "\n",
        "`Orden = [1 |3 |2 |  |  |  ]`\n",
        "\n",
        "\n",
        "LLamamos a la funcion dfs que escoge un nodo aleatorio 4\n",
        "\n",
        "Marcamos como visitado al nodo elegido y a los adyacentes\n",
        "\n",
        "`visitados = [2 |3  |1 |4 |0 |  ]`\n",
        "\n",
        "Los ingresamos a la pila\n",
        "\n",
        "`pila = [4 |0 | |  |  |  ]`\n",
        "\n",
        "se ingresan al arreglo que contiene los datos ordenados\n",
        "\n",
        "`Orden = [1 |3 |2 |0 |4 |  ]`\n",
        "\n",
        "\n",
        "LLamamos a la funcion dfs que escoge un nodo aleatorio 5\n",
        "\n",
        "Marcamos como visitado al nodo elegido y a los adyacentes\n",
        "\n",
        "`visitados = [2 |3  |1 |4 |0 |5 ]`\n",
        "\n",
        "Los ingresamos a la pila\n",
        "\n",
        "`pila = [5 | | |  |  |  ]`\n",
        "\n",
        "se ingresan al arreglo que contiene los datos ordenados\n",
        "\n",
        "`Orden = [1 |3 |2 |0 |4 |5 ]`\n",
        "\n",
        "Retornamos este arreglo que representa el orden topologico\n",
        "\n",
        "`Orden = [1 |3 |2 |0 |4 |5 ]`"
      ],
      "metadata": {
        "id": "E3-luP2vY2GD"
      }
    },
    {
      "cell_type": "markdown",
      "source": [
        "## 2.2Código"
      ],
      "metadata": {
        "id": "pjcapT1M8kKX"
      }
    },
    {
      "cell_type": "markdown",
      "source": [
        "### **2.3.Generador de instancia**"
      ],
      "metadata": {
        "id": "cGwJpqo4S4MQ"
      }
    },
    {
      "cell_type": "code",
      "source": [
        "from collections import defaultdict\n",
        "import math\n",
        "import random\n",
        "\n",
        "# Crea un grafo sin ciclos de nodos de 0 a V - 1\n",
        "# Retorna un dicionario [defaultdict(list)] \n",
        "# de key valor del nodo (0 a V - 1) y de value una \n",
        "# lista con los nodos a los cuales se conecta\n",
        "def graph_instance_creator(V):\n",
        "  nodes = random.sample(range(0, V), V)\n",
        "  div = int(math.ceil(V / 4))\n",
        "\n",
        "  current_div = div\n",
        "  graph = defaultdict(list)\n",
        "  for i in reversed(range(len(nodes))):\n",
        "    selectables = []\n",
        "    if (len(nodes) - current_div <= 0):\n",
        "      selectables = random.sample(nodes, random.randint(1, len(nodes)))\n",
        "    else:\n",
        "      population = nodes[:len(nodes)-current_div]\n",
        "      end = len(population) if len(population) < 4 else 4\n",
        "      selectables = random.sample(population, random.randint(1, end))\n",
        "    for selectable in selectables:\n",
        "      if (nodes[i] != selectable and not selectable in graph[nodes[i]]):\n",
        "        graph[nodes[i]].append(selectable)\n",
        "    if (i < len(nodes) - current_div):\n",
        "      current_div += div\n",
        "\n",
        "  return graph\n",
        "V = 5\n",
        "grafo = graph_instance_creator(V)\n",
        "print(grafo)\n",
        "t = len(grafo)\n",
        "print(t)"
      ],
      "metadata": {
        "colab": {
          "base_uri": "https://localhost:8080/"
        },
        "id": "rlUJi0fN-ZRd",
        "outputId": "b07c41c4-a6e4-4a08-ee6d-4bcf69c5bd8b"
      },
      "execution_count": 28,
      "outputs": [
        {
          "output_type": "stream",
          "name": "stdout",
          "text": [
            "defaultdict(<class 'list'>, {1: [4], 0: [4, 3], 4: [3]})\n",
            "3\n"
          ]
        }
      ]
    },
    {
      "cell_type": "code",
      "source": [
        "from collections import defaultdict\n",
        "import networkx as nx\n",
        "\n",
        "# Recibe un grafo de tipo [defaultdict(list)]\n",
        "# Retorna un nx.DiGraph de la libreria networkx\n",
        "def graph_to_nxdigraph(graph):\n",
        "  nxdigraph = nx.DiGraph()\n",
        "  for i in graph.keys():\n",
        "    nxdigraph.add_node(i)\n",
        "    for v in graph[i]:\n",
        "      nxdigraph.add_edge(i, v)\n",
        "  return nxdigraph\n",
        "\n",
        "graph_to_nxdigraph(grafo)"
      ],
      "metadata": {
        "colab": {
          "base_uri": "https://localhost:8080/"
        },
        "id": "0uLm36sP-2NO",
        "outputId": "f15b31c9-6c49-465f-bb77-1708fa56c8ee"
      },
      "execution_count": 29,
      "outputs": [
        {
          "output_type": "execute_result",
          "data": {
            "text/plain": [
              "<networkx.classes.digraph.DiGraph at 0x7fb0396addd0>"
            ]
          },
          "metadata": {},
          "execution_count": 29
        }
      ]
    },
    {
      "cell_type": "markdown",
      "source": [
        "### **2.4.Iterativo**"
      ],
      "metadata": {
        "id": "M-mD69WwTAM5"
      }
    },
    {
      "cell_type": "code",
      "source": [
        "def topologicalSort_Iterativo(arbol, verbose=False):\n",
        "  state = dict()\n",
        "  for n in arbol: state[n] = 'No visitado'\n",
        "\n",
        "  Laux = [] #Lista auxiliar guarda el orden\n",
        "  for n in arbol:\n",
        "    stack=[n]\n",
        "    while len(stack)>0:\n",
        "      n = stack.pop()\n",
        "      if state[n] == 'No visitado':\n",
        "        state[n] = 'visitado'\n",
        "        if(verbose == True):\n",
        "          print(\"Nodo padre visitado: \",n)\n",
        "\n",
        "        stack.append(n)\n",
        "        for adj in reversed(list(arbol[n])):\n",
        "          if state[adj] == 'No visitado': \n",
        "            stack.append(adj)\n",
        "            if(verbose == True):\n",
        "              print(\"Nodo Hijo visitado: \",adj)\n",
        "      elif state[n] == 'visitado':\n",
        "        state[n] = 'visitado'\n",
        "        Laux.append(n)\n",
        "        if(verbose == True):\n",
        "            print(\"Pila que guarda los nodos: \",Laux)\n",
        "\n",
        "  #Damos vuelta la lista auxiliar\n",
        "  Laux = list(reversed(Laux))\n",
        "\n",
        "  return Laux\n",
        "\n",
        "\n",
        "g = graph_instance_creator(10)\n",
        "arbol =graph_to_nxdigraph(g)\n",
        "verbose=False\n",
        "\n",
        "lista = topologicalSort_Iterativo(arbol,verbose)\n",
        "\n",
        "print (lista)"
      ],
      "metadata": {
        "colab": {
          "base_uri": "https://localhost:8080/"
        },
        "id": "oQean000KhEo",
        "outputId": "520710e7-a352-404e-fd8a-2dcb6c185945"
      },
      "execution_count": 30,
      "outputs": [
        {
          "output_type": "stream",
          "name": "stdout",
          "text": [
            "[9, 0, 6, 1, 0, 3, 5, 3, 2, 8, 7, 4, 2, 8, 9, 7, 6]\n"
          ]
        }
      ]
    },
    {
      "cell_type": "markdown",
      "source": [
        "### **2.5.Recursivo**"
      ],
      "metadata": {
        "id": "qD_n0byUTkeo"
      }
    },
    {
      "cell_type": "code",
      "source": [
        "def int_to_alpha(n):\n",
        "  return chr(ord('a') + n)\n",
        "\n",
        "def DFS_recursivo(A, principio, cantidad, listaOrdenada):\n",
        "  A.nodes[principio]['No visitado'] = 1 # Nodo descubierto\n",
        "  adj_list = list(reversed(list(G[principio])))#nodos adayacentes\n",
        "\n",
        "\n",
        "  for adj in adj_list: \n",
        "    if A.nodes[adj]['No visitado'] == 0: #Se llama a dfs recursivamente si no se ha descubierto el nodo para cada nodo adyacente no explorado\n",
        "      listaOrdenada, listaOrdenada = DFS_recursivo(A, adj, listaOrdenada, listaOrdenada, verbose)\n",
        "\n",
        "  A.nodes[principio]['visitado'] = listaOrdenada # Etiqueta del nodo \n",
        "  A.nodes[principio]['No visitado'] = 2 # nodo visitado\n",
        "  listaOrdenada.append(int_to_alpha(principio)) # Se inserta el nodo\n",
        "\n",
        "  listaOrdenada -= 1 # Disminuimos el contador en 1\n",
        "\n",
        "  # Se retorna la cantidad y la lista ordenada\n",
        "  return cantidad, listaOrdenada\n",
        "\n",
        "\n",
        "def topological_sort_recursivo(A):\n",
        "  cont = len(A.nodes())\n",
        "  listaOrdenada = list()\n",
        "\n",
        "  for c in A.nodes(): # Recorrido nodos\n",
        "    if A.nodes[c]['No visitado'] == 0: # Si el nodo no ha sido explorado\n",
        "      # Se aplica DFS con cada nodo no explorado\n",
        "      cont, listaOrdenada = DFS_recursivo(A, c, cont, listaOrdenada)\n",
        "\n",
        "\n",
        "  listaOrdenada.reverse() # se invierte la lista\n",
        "  return listaOrdenada # Retornada la lista de orden topológico\n",
        "\n",
        "\n",
        "lista = topologicalSort_Iterativo(h)\n",
        "print (lista)"
      ],
      "metadata": {
        "colab": {
          "base_uri": "https://localhost:8080/"
        },
        "id": "VeAP2cI9Kksh",
        "outputId": "203f84a6-5ac8-448f-a55a-542022838fa9"
      },
      "execution_count": 35,
      "outputs": [
        {
          "output_type": "stream",
          "name": "stdout",
          "text": [
            "[9, 1, 5, 1, 7, 3, 6, 0, 4, 2, 8, 0, 4, 2, 3, 4, 9, 7, 3, 0, 4, 9]\n"
          ]
        }
      ]
    },
    {
      "cell_type": "code",
      "source": [
        "def DFS_recursivo(G, initial, cont, sorted):\n",
        "  G.nodes[initial]['No visitado'] = 0\n",
        "\n",
        "  \n",
        "  adj_list = list(reversed(list(G[initial])))\n",
        "\n",
        "  for adj in adj_list: # Recorremos los nodos adyacentes\n",
        "    if (G.nodes[adj]['No visitado'] == 0): # Si el nodo no ha sido descubierto\n",
        "      # Llamamos recursivamente a DFS \n",
        "      cont, sorted = DFS_recursivo(G, adj, cont, sorted, verbose)\n",
        "\n",
        "  G.nodes[initial]['visitado'] = cont # Etiquetamos el nodo con su orden de visita\n",
        "  G.nodes[initial]['No visitado'] = 2 # Marcamos el nodo como visitado\n",
        "  sorted.append(int_to_alpha(initial)) # Insertamos el nodo a la lista ordenada\n",
        "\n",
        "\n",
        "  cont -= 1 # Disminuimos el contador en 1\n",
        "\n",
        "  # Retornamos la lista ordenada de nodos y el contador actual\n",
        "  return cont, sorted\n",
        "def topological_sort_recursivo(G):\n",
        "  cont = len(G.nodes())\n",
        "  sorted = list()\n",
        "\n",
        "  for n in G.nodes(): # Recorremos los nodos del árbol\n",
        "    if (G.nodes[n]['No visitado'] == 0): # Si el nodo no ha sido explorado\n",
        "      # Aplicamos DFS con cada nodo no explorado\n",
        "      cont, sorted = DFS_recursivo(G, n, cont, sorted)\n",
        "\n",
        "  sorted.reverse() \n",
        "\n",
        "  return sorted \n",
        "graph = {\n",
        "    0: [5,7],\n",
        "    1: [3,8,5],\n",
        "    2: [6],\n",
        "    3: [5,7,8],\n",
        "    4: [6,8,7,5],\n",
        "    5: [7],\n",
        "    6: [7],\n",
        "    8: [7],\n",
        "    9: [7,3,8]\n",
        "}\n",
        "\n",
        "\n",
        "G = graph_to_nxdigraph(graph)\n",
        "\n",
        "\n",
        "sorted = topological_sort_recursivo(arbol)\n",
        "\n"
      ],
      "metadata": {
        "colab": {
          "base_uri": "https://localhost:8080/",
          "height": 339
        },
        "id": "ZXSzDczwerGy",
        "outputId": "e7ec9375-75c4-4f08-d47a-454c7645f9ef"
      },
      "execution_count": 46,
      "outputs": [
        {
          "output_type": "error",
          "ename": "KeyError",
          "evalue": "ignored",
          "traceback": [
            "\u001b[0;31m---------------------------------------------------------------------------\u001b[0m",
            "\u001b[0;31mKeyError\u001b[0m                                  Traceback (most recent call last)",
            "\u001b[0;32m<ipython-input-46-606378ebf3b4>\u001b[0m in \u001b[0;36m<module>\u001b[0;34m\u001b[0m\n\u001b[1;32m     47\u001b[0m \u001b[0;34m\u001b[0m\u001b[0m\n\u001b[1;32m     48\u001b[0m \u001b[0;34m\u001b[0m\u001b[0m\n\u001b[0;32m---> 49\u001b[0;31m \u001b[0msorted\u001b[0m \u001b[0;34m=\u001b[0m \u001b[0mtopological_sort_recursivo\u001b[0m\u001b[0;34m(\u001b[0m\u001b[0marbol\u001b[0m\u001b[0;34m)\u001b[0m\u001b[0;34m\u001b[0m\u001b[0;34m\u001b[0m\u001b[0m\n\u001b[0m\u001b[1;32m     50\u001b[0m \u001b[0;34m\u001b[0m\u001b[0m\n",
            "\u001b[0;32m<ipython-input-46-606378ebf3b4>\u001b[0m in \u001b[0;36mtopological_sort_recursivo\u001b[0;34m(G)\u001b[0m\n\u001b[1;32m     24\u001b[0m \u001b[0;34m\u001b[0m\u001b[0m\n\u001b[1;32m     25\u001b[0m   \u001b[0;32mfor\u001b[0m \u001b[0mn\u001b[0m \u001b[0;32min\u001b[0m \u001b[0mG\u001b[0m\u001b[0;34m.\u001b[0m\u001b[0mnodes\u001b[0m\u001b[0;34m(\u001b[0m\u001b[0;34m)\u001b[0m\u001b[0;34m:\u001b[0m \u001b[0;31m# Recorremos los nodos del árbol\u001b[0m\u001b[0;34m\u001b[0m\u001b[0;34m\u001b[0m\u001b[0m\n\u001b[0;32m---> 26\u001b[0;31m     \u001b[0;32mif\u001b[0m \u001b[0;34m(\u001b[0m\u001b[0mG\u001b[0m\u001b[0;34m.\u001b[0m\u001b[0mnodes\u001b[0m\u001b[0;34m[\u001b[0m\u001b[0mn\u001b[0m\u001b[0;34m]\u001b[0m\u001b[0;34m[\u001b[0m\u001b[0;34m'No visitado'\u001b[0m\u001b[0;34m]\u001b[0m \u001b[0;34m==\u001b[0m \u001b[0;36m0\u001b[0m\u001b[0;34m)\u001b[0m\u001b[0;34m:\u001b[0m \u001b[0;31m# Si el nodo no ha sido explorado\u001b[0m\u001b[0;34m\u001b[0m\u001b[0;34m\u001b[0m\u001b[0m\n\u001b[0m\u001b[1;32m     27\u001b[0m       \u001b[0;31m# Aplicamos DFS con cada nodo no explorado\u001b[0m\u001b[0;34m\u001b[0m\u001b[0;34m\u001b[0m\u001b[0;34m\u001b[0m\u001b[0m\n\u001b[1;32m     28\u001b[0m       \u001b[0mcont\u001b[0m\u001b[0;34m,\u001b[0m \u001b[0msorted\u001b[0m \u001b[0;34m=\u001b[0m \u001b[0mDFS_recursivo\u001b[0m\u001b[0;34m(\u001b[0m\u001b[0mG\u001b[0m\u001b[0;34m,\u001b[0m \u001b[0mn\u001b[0m\u001b[0;34m,\u001b[0m \u001b[0mcont\u001b[0m\u001b[0;34m,\u001b[0m \u001b[0msorted\u001b[0m\u001b[0;34m)\u001b[0m\u001b[0;34m\u001b[0m\u001b[0;34m\u001b[0m\u001b[0m\n",
            "\u001b[0;31mKeyError\u001b[0m: 'No visitado'"
          ]
        }
      ]
    },
    {
      "cell_type": "markdown",
      "source": [
        "### **2.5.Verbose(iterativo)**"
      ],
      "metadata": {
        "id": "imuI53JqWKJg"
      }
    },
    {
      "cell_type": "code",
      "source": [
        "g = graph_instance_creator(10)\n",
        "print(\"Entrada: \")\n",
        "print(g)\n",
        "arbol =graph_to_nxdigraph(g)\n",
        "print(\"\\nNodos y arcos: \")\n",
        "print(arbol)\n",
        "lista = topologicalSort_Iterativo(arbol,verbose=True)\n",
        "\n",
        "print(\"\\nOrden topologico: \")\n",
        "print (lista)"
      ],
      "metadata": {
        "colab": {
          "base_uri": "https://localhost:8080/"
        },
        "id": "0LSVLACKfcT8",
        "outputId": "7445f0fe-ca88-4362-aab1-5d8a9ad1d9b6"
      },
      "execution_count": null,
      "outputs": [
        {
          "output_type": "stream",
          "name": "stdout",
          "text": [
            "Entrada: \n",
            "defaultdict(<class 'list'>, {0: [8, 4, 7], 1: [6, 4], 3: [6, 5, 2], 4: [6, 2, 5], 5: [6], 2: [8, 9, 7], 6: [7], 8: [9], 7: [9]})\n",
            "\n",
            "Nodos y arcos: \n",
            "DiGraph with 10 nodes and 18 edges\n",
            "Nodo padre visitado:  0\n",
            "Nodo Hijo visitado:  7\n",
            "Nodo Hijo visitado:  4\n",
            "Nodo Hijo visitado:  8\n",
            "Nodo padre visitado:  8\n",
            "Nodo Hijo visitado:  9\n",
            "Nodo padre visitado:  9\n",
            "Pila que guarda los nodos:  [9]\n",
            "Pila que guarda los nodos:  [9, 8]\n",
            "Nodo padre visitado:  4\n",
            "Nodo Hijo visitado:  5\n",
            "Nodo Hijo visitado:  2\n",
            "Nodo Hijo visitado:  6\n",
            "Nodo padre visitado:  6\n",
            "Nodo Hijo visitado:  7\n",
            "Nodo padre visitado:  7\n",
            "Pila que guarda los nodos:  [9, 8, 7]\n",
            "Pila que guarda los nodos:  [9, 8, 7, 6]\n",
            "Nodo padre visitado:  2\n",
            "Pila que guarda los nodos:  [9, 8, 7, 6, 2]\n",
            "Nodo padre visitado:  5\n",
            "Pila que guarda los nodos:  [9, 8, 7, 6, 2, 5]\n",
            "Pila que guarda los nodos:  [9, 8, 7, 6, 2, 5, 4]\n",
            "Pila que guarda los nodos:  [9, 8, 7, 6, 2, 5, 4, 7]\n",
            "Pila que guarda los nodos:  [9, 8, 7, 6, 2, 5, 4, 7, 0]\n",
            "Pila que guarda los nodos:  [9, 8, 7, 6, 2, 5, 4, 7, 0, 8]\n",
            "Pila que guarda los nodos:  [9, 8, 7, 6, 2, 5, 4, 7, 0, 8, 4]\n",
            "Pila que guarda los nodos:  [9, 8, 7, 6, 2, 5, 4, 7, 0, 8, 4, 7]\n",
            "Nodo padre visitado:  1\n",
            "Pila que guarda los nodos:  [9, 8, 7, 6, 2, 5, 4, 7, 0, 8, 4, 7, 1]\n",
            "Pila que guarda los nodos:  [9, 8, 7, 6, 2, 5, 4, 7, 0, 8, 4, 7, 1, 6]\n",
            "Nodo padre visitado:  3\n",
            "Pila que guarda los nodos:  [9, 8, 7, 6, 2, 5, 4, 7, 0, 8, 4, 7, 1, 6, 3]\n",
            "Pila que guarda los nodos:  [9, 8, 7, 6, 2, 5, 4, 7, 0, 8, 4, 7, 1, 6, 3, 5]\n",
            "Pila que guarda los nodos:  [9, 8, 7, 6, 2, 5, 4, 7, 0, 8, 4, 7, 1, 6, 3, 5, 2]\n",
            "Pila que guarda los nodos:  [9, 8, 7, 6, 2, 5, 4, 7, 0, 8, 4, 7, 1, 6, 3, 5, 2, 9]\n",
            "\n",
            "Orden topologico: \n",
            "[9, 2, 5, 3, 6, 1, 7, 4, 8, 0, 7, 4, 5, 2, 6, 7, 8, 9]\n"
          ]
        }
      ]
    },
    {
      "cell_type": "markdown",
      "source": [
        "# **3.Correctitud**"
      ],
      "metadata": {
        "id": "J0xsLcZsEKw1"
      }
    },
    {
      "cell_type": "markdown",
      "source": [
        "Para probar que el algoritmo es correcto nos debemos centrar en la funcion dfs,\n",
        "analizar como funciona\n",
        "\n",
        "En cada iteracion se escoge un nodo padre con sus hijos, explora los hijos revisando si fueron visitados o no visitados.\n",
        "\n"
      ],
      "metadata": {
        "id": "tV3lgovIWA1U"
      }
    },
    {
      "cell_type": "markdown",
      "source": [
        "Teorema Topological Sort Algorithm \n",
        "\n",
        "no toy seguro lo saque de internet\n",
        "\n",
        "El algoritmo es correcto si para la conexion (u, v) que pertenece al grafo se cumple que f(u) > f(v) .\n",
        "\n",
        "prueba \n",
        "\n",
        "\n",
        "\n",
        "Case base: \n",
        "\n",
        "La cantidad de nodos es 1 por lo que no tiene arcos ni aristas, entonces está sería la solución al problema y para este caso sería correcto.\n",
        "\n",
        "Caso inductivo:\n",
        "\n",
        "Para este caso tenemos que la cantidad de nodos es superior a 1.\n",
        "\n",
        "Tenemos un stack que represente cada nodo, sirve para marcar los nodos visitados, ahora se elige un nodo que es marcado como visitado junto a sus nodos adyacentes, son guardados en la pila, al marcarlos como visitado evitaremos volver a pasar por los mismos nodos. Aunque cada vez que elegimos un nodo vamos a tener dos opciones para resolver este problema la primera es que no tengamos nodos adyacentes, por suerte no es tan complicado este caso porque se guarda el nodo escogido en la pila en el segundo caso que seria cuando el nodo tiene uno o más nodos adyacentes, se resolverá de manera iterativa o recursiva lo que implica que el proceso que se explicó anterior se va a repetir hasta llegar al caso base.\n",
        "\n",
        "Este proceso se va a repetir hasta que todos los nodos del grafo sean marcados como visitado y retorne la pila con el orden topológico, ahora podemos decir con seguridad que el algoritmo es correcto\n",
        " \n",
        "\n",
        "1.   Crearemos una pila temporal que guardara el orden de los nodos\n",
        "2.   Llamamos el DFS de manera recursiva o no recursiva\n",
        "3.   iremos guardando los nodos en la pila generada\n",
        "4.   Una vez recorrido todos los nodos se retorna la pila que representa el orden topológico\n",
        "\n"
      ],
      "metadata": {
        "id": "OJDalJW8akft"
      }
    },
    {
      "cell_type": "markdown",
      "source": [
        "# **4.Tiempo de ejecución**"
      ],
      "metadata": {
        "id": "lAZd6hCegQLM"
      }
    },
    {
      "cell_type": "markdown",
      "source": [
        "Este algoritmo tiene una complejidad de O(V+E) donde V representa la cantidad de nodos y e representa los vértices.\n",
        "\n",
        "**Demostración**\n",
        "\n",
        "Este tiempo de ejecución se consigue analizando el código.\n",
        "\n",
        "En la primera parte se crea una pila para almacenar cada nodo, eso tiene un costo de O(v) por causa de que lo guarda solo una vez.\n",
        "\n",
        "También tenemos que recorrer cada nodo que tiene un costo O(e) por causa de que pasamos solo una vez por sus conexiones(arcos).\n",
        "\n",
        "Al hacer una simple suma podemos demostrar que tiene una complejidad de O(V+E)."
      ],
      "metadata": {
        "id": "CHQMSiSns2OK"
      }
    },
    {
      "cell_type": "markdown",
      "source": [
        "# **5.Experimentos**"
      ],
      "metadata": {
        "id": "XuRCBZy-j37J"
      }
    },
    {
      "cell_type": "code",
      "source": [
        "import matplotlib.pyplot as plt\n",
        "import numpy as np\n",
        "from timeit import repeat\n",
        "\n",
        "x=[]; y1=[]; y2=[]\n",
        "\n",
        "for n in range(10,200):\n",
        "  G = graph_instance_creator(n)\n",
        "  G = graph_to_nxdigraph(G)\n",
        "  H = G.copy()\n",
        "  verbose = False\n",
        "\n",
        "  t1 = repeat(setup=\"from __main__ import topologicalSort_Iterativo\", stmt=lambda: topologicalSort_Iterativo(G), repeat=1, number=10)\n",
        " \n",
        "\n",
        "  x.append(n)\n",
        "  y1.append(t1)\n",
        "  #y2.append(t2)\n",
        "\n",
        "plt.plot(x,y1)\n",
        "#plt.plot(x,y2)\n",
        "plt.legend([\"Iterativo\"])\n",
        "\n",
        "plt.xlabel('Cantidad de nodos')\n",
        "plt.ylabel('Tiempo en ms')\n",
        "plt.show()"
      ],
      "metadata": {
        "colab": {
          "base_uri": "https://localhost:8080/",
          "height": 279
        },
        "id": "LDakTGRej8fE",
        "outputId": "b178db7e-180b-4377-89c4-52f917265023"
      },
      "execution_count": 21,
      "outputs": [
        {
          "output_type": "display_data",
          "data": {
            "text/plain": [
              "<Figure size 432x288 with 1 Axes>"
            ],
            "image/png": "[encoded data removed]"
          },
          "metadata": {
            "needs_background": "light"
          }
        }
      ]
    },
    {
      "cell_type": "markdown",
      "source": [
        "# **6.Resultados**"
      ],
      "metadata": {
        "id": "HwJdeTR5SIaI"
      }
    },
    {
      "cell_type": "markdown",
      "source": [
        "Gráfico 1:\n",
        "\n",
        "Podemos ver que a medida que crece la cantidad de nodos se va demorando, más a pesar de que tenemos uno pecks en el gráfico, eso se puede interpretar como recciones inesperadas del procesador, aunque lo más importante es que podemos demostrar que el tiempo de ejecución es O(V + E)."
      ],
      "metadata": {
        "id": "3EV9_AKpSLzl"
      }
    }
  ]
}