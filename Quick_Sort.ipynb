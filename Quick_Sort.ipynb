{
  "nbformat": 4,
  "nbformat_minor": 0,
  "metadata": {
    "colab": {
      "provenance": [],
      "authorship_tag": "ABX9TyNRe5vRSMR/DQrAo2yWLShc",
      "include_colab_link": true
    },
    "kernelspec": {
      "name": "python3",
      "display_name": "Python 3"
    },
    "language_info": {
      "name": "python"
    }
  },
  "cells": [
    {
      "cell_type": "markdown",
      "metadata": {
        "id": "view-in-github",
        "colab_type": "text"
      },
      "source": [
        "<a href=\"https://colab.research.google.com/github/Repollo1000/ADA-Informes/blob/main/Quick_Sort.ipynb\" target=\"_parent\"><img src=\"https://colab.research.google.com/assets/colab-badge.svg\" alt=\"Open In Colab\"/></a>"
      ]
    },
    {
      "cell_type": "markdown",
      "source": [
        "# **1. Problema de ordenamiento**"
      ],
      "metadata": {
        "id": "ZJtS_Hg_Lvqu"
      }
    },
    {
      "cell_type": "markdown",
      "source": [
        "El problema de ordenamiento cosiste en una entrada de n numeros desordenados donde la salida de los numeros tiene que estar ordenado de menor a mayor o al revés.\n",
        "\n",
        "Ejemplo:\n",
        "```\n",
        "Entrada:  [5, 2, 4, 6, 1, 3] \n",
        "Salida:  [1, 2, 3, 4, 5, 6]\n",
        "```\n",
        "\n",
        "Este problema a sido analizado y resuelto por muchos investigadores, por lo que ha surguido una gran variedad de algoritmos que resuelven el mismo problema, han nacido una serie de conceptos como notación de O mayúscula, algoritmos divide y vencerás, estructuras de datos, análisis de los casos peor, mejor, y promedio, y límites inferiores, esto es bueno para saber cual es mejor algoritmo dependiendo de lo que se necesite."
      ],
      "metadata": {
        "id": "GEUv8B3YLgR3"
      }
    },
    {
      "cell_type": "markdown",
      "source": [
        "# **2.Descripción del algoritmo**"
      ],
      "metadata": {
        "id": "Q8KTVwDOL2Cx"
      }
    },
    {
      "cell_type": "markdown",
      "source": [
        "Este tipo de ordenamient(Quick sort), funciona recursivamente aparentemente trabaja mejor con con elementos completamente desordenados que para elemetos semi ordenados, siendo este algoritmo opuesto al bublle sort.\n",
        "\n",
        "este algoritmo se basa en la tecnica dividir y venceras, lo que lo hace mas eficiente que otros algoritmos. Para ordenar, se debe escoger un elemento que este en la mitado cerca de la mitad, se mpieza a ordenar hasta la mitad, asi se podra garantizar que los elementos al la izquierda son menores a los elementos a la derecha, de aqui en adelante se usan los llamados recirsivos para lograr el ordenamiento por particion, logrando que el tama;o de los arreglos se redusca a la mitad y asi continuar hasta que retorne el arreglo ordenado\n"
      ],
      "metadata": {
        "id": "QZTJ_3yPMB0I"
      }
    },
    {
      "cell_type": "markdown",
      "source": [
        "## **2.1.Ejemplo paso a paso**"
      ],
      "metadata": {
        "id": "JT6l9GTuQHIJ"
      }
    },
    {
      "cell_type": "markdown",
      "source": [
        "`Arreglo = [8, 3, 6, 4 , 2, 5, 7, 1]`\n",
        "\n",
        "paso 1\n",
        "\n",
        "Escojemos un pivote de nuestro arreglo y un indice izquierdo y derecho.\n",
        "\n",
        "`[8, 3, 6, 4, 2, 5, 7, 1]`\n",
        "\n",
        "En este caso el el pivote seram `p = 4` los indices seran `left = 8` y `right = 1` \n",
        "\n",
        "Paso 2\n",
        "\n",
        "`[8, 3, 6, 4, 2, 5, 7, 1]`\n",
        "\n",
        "el pivote se compara con los indices si `left > p`, `right < p`-> `rigth` y `left` se intercambian de posicion entre si, \n",
        "\n",
        "```\n",
        "      left = 3\n",
        "      right = 7\n",
        "      pivote =4\n",
        "[1, 3, 6, 4, 2, 5, 7, 8]\n",
        "```\n",
        "\n",
        "paso 3\n",
        "en el caso de que se cumpla `left < p` y `right > p` para cualquiera de las 2 los indices se mueven\n",
        "\n",
        "```\n",
        "      left = 6(cambio)\n",
        "      right = 5(cambio)\n",
        "      pivote =4\n",
        "[1, 3, 6, 4, 2, 5, 7, 8]\n",
        "```\n",
        "el paso 2 y 3 son practicamente iguales se iran repitiendo hasta que los indices lleguen al pivote quedando asi :\n",
        "\n",
        "`[1, 3, 2, 4, 6, 5, 7, 8]`\n",
        "\n",
        "paso 4\n",
        "\n",
        "el arreglo se divide en 2 y se repiten todos los pasos para el sub arreglo izquierdo y derecho obteniendo un resultado final.\n",
        "\n",
        "`[1, 2, 3, 4, 5, 6, 7, 8]`\n",
        "\n",
        "Como podemos ver el arreglo queda ordenado al seguir esta serie de pasos.\n",
        "\n",
        "\n"
      ],
      "metadata": {
        "id": "iDF0FMURQMvz"
      }
    },
    {
      "cell_type": "markdown",
      "source": [
        "## **2.2.Codigo**"
      ],
      "metadata": {
        "id": "TX9_0gA6YiMG"
      }
    },
    {
      "cell_type": "code",
      "source": [
        "def partition(arr,low,high):\n",
        "    pindex = low         \n",
        "    pivot = arr[high]     \n",
        " \n",
        "    for j in range(low , high):\n",
        " \n",
        "        if   arr[j] <= pivot:\n",
        "            arr[pindex],arr[j] = arr[j],arr[pindex]\n",
        "            pindex = pindex + 1\n",
        " \n",
        "    arr[pindex],arr[high] = arr[high],arr[pindex]\n",
        "    return (pindex)\n",
        " \n",
        "\n",
        "def quickSort(arr,low,high):\n",
        "    if low < high:\n",
        "        pi = partition(arr,low,high)\n",
        "        quickSort(arr, low, pi-1)\n",
        "        quickSort(arr, pi+1, high)\n",
        " \n",
        "\n",
        "arr = [8, 3, 6, 4 , 2, 5, 7, 1]\n",
        "n = len(arr)\n",
        "quickSort(arr,0,n-1)\n",
        "print (\"Sorted array is:\")\n",
        "print(arr)"
      ],
      "metadata": {
        "colab": {
          "base_uri": "https://localhost:8080/"
        },
        "id": "E08d0OjzYqKA",
        "outputId": "01a40646-1475-453b-cdd7-fbf2282500fc"
      },
      "execution_count": null,
      "outputs": [
        {
          "output_type": "stream",
          "name": "stdout",
          "text": [
            "Sorted array is:\n",
            "[1, 2, 3, 4, 5, 6, 7, 8]\n"
          ]
        }
      ]
    },
    {
      "cell_type": "markdown",
      "source": [
        "## **2.3.Verbose = True**"
      ],
      "metadata": {
        "id": "E0cFel7YY05a"
      }
    },
    {
      "cell_type": "code",
      "source": [],
      "metadata": {
        "id": "wcwqfTcSYz9b"
      },
      "execution_count": null,
      "outputs": []
    }
  ]
}