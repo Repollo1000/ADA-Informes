{
  "nbformat": 4,
  "nbformat_minor": 0,
  "metadata": {
    "colab": {
      "provenance": [],
      "collapsed_sections": [
        "W8k-__r4i2MW",
        "rwxaHTOJMwlu",
        "WSs0r6T--RNj"
      ],
      "authorship_tag": "ABX9TyOY5BLjC6xNRHHzx+56V6ir",
      "include_colab_link": true
    },
    "kernelspec": {
      "name": "python3",
      "display_name": "Python 3"
    },
    "language_info": {
      "name": "python"
    }
  },
  "cells": [
    {
      "cell_type": "markdown",
      "metadata": {
        "id": "view-in-github",
        "colab_type": "text"
      },
      "source": [
        "<a href=\"https://colab.research.google.com/github/Repollo1000/ADA-Informes/blob/main/Informe_OptimalBST.ipynb\" target=\"_parent\"><img src=\"https://colab.research.google.com/assets/colab-badge.svg\" alt=\"Open In Colab\"/></a>"
      ]
    },
    {
      "cell_type": "markdown",
      "source": [
        "# **1.Descripción del problema(optimización)**"
      ],
      "metadata": {
        "id": "N3QCAXjXfy1E"
      }
    },
    {
      "cell_type": "markdown",
      "source": [
        "Los problemas de optimización,\n",
        "\n",
        "Se usan cuando los subproblemas se repiten, para este caso cuando los subproblemas se repiten es necesario guardar cada subproblema para resolverlo una vez para evitar realizar el mismo trabajo más de una vez.\n",
        "\n",
        "\n",
        "*   los problemas que requieren maximizar o minimizar ciertas cantidades o problemas de conteo.\n",
        "*   Todos los problemas de programación dinámica satisfacen la propiedad de subproblemas superpuestos \n",
        "\n",
        "En este informe resolveremos el problema de Árboles binarios de búsqueda óptimos.\n",
        "\n",
        "La idea de construir este árbol es minimizar el costo de búsqueda:\n",
        "\n",
        "\n",
        "**Entrada**: Secuencia ordenada de n claves: $K=\\left<k_1,k_2,...,k_n\\right>$. Cada clave $k_i$ tiene una probabilidad $p_i$ de ser buscada. Existen claves ficticias $d_i$ que representan búsquedas fallidas con $k_{i-1} \\leq d_i \\leq k_i$. Cada clave $d_i$ tiene una probabilidad $q_i$ de ser buscada. La suma de probabilidades debe ser uno, es decir: $\\sum\\limits_{i=1}^n p_i + \\sum\\limits_{j=0}^n q_i = 1$\n",
        "\n",
        "\n",
        "**Salida**: Construir un árbol de búsqueda óptimo, es decir, un árbol que minimice la cantidad esperada de nodos visitados (costo esperado).\n",
        "\n",
        "\n",
        "\n",
        "\n",
        "\n"
      ],
      "metadata": {
        "id": "RcF88BLQf1Wj"
      }
    },
    {
      "cell_type": "markdown",
      "source": [
        "foto"
      ],
      "metadata": {
        "id": "3FrYWJqzn_U3"
      }
    },
    {
      "cell_type": "markdown",
      "source": [
        "# **2.Decripción del algoritmo**"
      ],
      "metadata": {
        "id": "3YnYBKnooDZN"
      }
    },
    {
      "cell_type": "markdown",
      "source": [
        "Existen varias formas de implementarn el algoritmo BST en esta ocacion veremos 2, algoritmo recursivo y bottom-up (programación dinámica)."
      ],
      "metadata": {
        "id": "d2860a7moJJc"
      }
    },
    {
      "cell_type": "markdown",
      "source": [
        "algoritmo recursivo para resolver el problema del árbol binario de búsqueda óptimo:\n",
        "\n",
        "Este manera de de resover el prblema es muy poco eficiente(sera demostrado mas adelante), debido a que no guarda la soluciones de los subproblemas ya resueltos\n",
        "\n",
        "La entrada es la misma que esta descrita en la descripcion del problema con una pequeña diferencia que tambien le ingresamos los indices iniciales y finalesdel arreglo si el arrglo es de n elementos a la funcion le pasaremos **0** y **n-1**\n",
        "\n",
        "Para calcular nuestro minimo debemos seguir ciertos pasos y codiciones:\n",
        "\n",
        "\n",
        "\n",
        "*   si nuetro ultimo elemento, es menor al inicial retornamos el valor que esta en nuestro arreglo de probabilidades en las claves ficticias(se le puede llamar caso base)\n",
        "*   Se calcula la suma de probabilidades de ambos arreglos ingresados **p** y **q**\n",
        "*   la sumas se guardan en una variable encargada de tener las probabilidades\n",
        "\n",
        "*  Debemos inicializar el costo minimo con una funcion que te ofrece la biblioteca math de python, que es \"inf\" que representa un numero muy grande\n",
        "*  para cada raiz dentro del rango adecuado se le calcula su minimo para la rama izquierda(raíz actual - 1) y derecha(raíz actual + 1), al ser una funcion recursiva podremos llegar al \"caso base\"\n",
        "*  ahora debemos analizar el costo minimo calculado si es menor al costo minimo anterior se remplaza \n",
        "*  Por ultimo, podemos observar que al ser un algoritmo recursivo y que siempre estaremos almacenando el costo minimo y habremos solucionado el problema\n",
        "\n",
        "\n",
        "\n"
      ],
      "metadata": {
        "id": "g1-mp7WMxMY4"
      }
    },
    {
      "cell_type": "markdown",
      "source": [
        "bottom-up (programación dinámica) para resolver el problema:\n",
        "\n",
        "Este algoritmo recibe 3 parámetros principales *p*, *q* y *n*\n",
        "\n",
        "p , q son probabilidades y n es el tamaño de la matriz.\n",
        "\n",
        "Fases:\n",
        "\n",
        "\n",
        "\n",
        "*   inicializamos e[i; i - 1] y w[i; i - 1]. \n",
        "*   en la primera iteración, cuando l es == 1, e[i; i] y w[i; i] for i = 1, 2..... n\n",
        "*   en la segunda iteración, cuando l es == 1, e[i; i] y w[i; i] for i = 1, 2..... n - 1\n",
        "* se guardan los valores actuales de r en\n",
        "root[i; j] \n",
        "\n"
      ],
      "metadata": {
        "id": "fmVy4zP_xcX6"
      }
    },
    {
      "cell_type": "markdown",
      "source": [
        "## **Ejemplo paso a paso**"
      ],
      "metadata": {
        "id": "y0YLUpB2DSJw"
      }
    },
    {
      "cell_type": "markdown",
      "source": [
        "Obtendremos los siguientes datos\n",
        "\n",
        "\n",
        "\n",
        "```\n",
        " i\t  0\t  1\t  2\t   3\n",
        "pi\t        0.5    0.1\t 0.05\n",
        "qi\t0.15\t0.1\t0.05\t0.05\n",
        "```\n",
        "\n",
        "Creamos las matrices **e** , **w** y **root**\n",
        "\n",
        "Ahora inicializamos las matrices de esta manera\n",
        "\n",
        "\n",
        "primero **w** y **e**:\n",
        "\n",
        "Se debe cumplir que j = i - 1\n",
        "\n",
        "$$w[1,0] = \\sum_{m=1}^{0}p_m + \\sum_{m=0}^{0}q_m = q_0= 0.15$$\n",
        "$$w[2,1] = \\sum_{m=2}^{1}p_m + \\sum_{m=1}^{1}q_m = q_1= 0.1$$\n",
        "$$w[3,2] = \\sum_{m=3}^{2}p_m + \\sum_{m=2}^{2}q_m = q_2= 0.05$$\n",
        "$$w[4,3] = \\sum_{m=4}^{3}p_m + \\sum_{m=3}^{3}q_m = q_3= 0.05$$\n",
        "\n",
        "```\n",
        "[w]             i\n",
        "     1      2      3      4\n",
        "  3 [0]    [0]    [0]   [0.05]\n",
        "\n",
        "  2 [0]    [0]    [0.05]\n",
        "j\n",
        "  1 [0]   [0.1]\n",
        "\n",
        "  0 [0.15]\n",
        "```\n",
        "\n",
        "Ahora vemos como queda la matiz **e**\n",
        "\n",
        "```\n",
        "\n",
        "\n",
        "e[1,  0] = q0 = 0.15  se debe cumplir ( j = i – 1)\n",
        "\n",
        "e[2,  1] = q1 = 0.1   se debe cumplir ( j = i – 1)\n",
        "\n",
        "e[3,  2] = q2 = 0.05  se debe cumplir ( j = i – 1)\n",
        "\n",
        "e[4,  3] = q3 = 0.05  se debe cumplir ( j = i – 1)\n",
        "\n",
        "\n",
        "```\n",
        "\n",
        "Quedaría así:\n",
        "\n",
        "\n",
        "```\n",
        "[e]            i\n",
        "     1      2      3      4\n",
        "  3 [0]    [0]    [0]   [0.05]\n",
        "\n",
        "  2 [0]    [0]    [0.05]\n",
        "j\n",
        "  1 [0]   [0.1]\n",
        "\n",
        "  0 [0.15]\n",
        "```\n",
        "\n",
        "El segundo paso seria:\n",
        "$$w[1,1] = p_1 + q_0 + q_1 = 0.75$$\n",
        "$$w[2,2] = p_2 + q_1 + q_2 = 0.25$$\n",
        "$$w[3,3] = p_3 + q_2 + q_3 = 0.15$$\n",
        "\n",
        "```\n",
        "[w]             i\n",
        "     1      2      3      4\n",
        "  3 [0]    [0]   [0.15] [0.05]\n",
        "\n",
        "  2 [0]   [0.25]  [0.05]\n",
        "j\n",
        "  1 [0.75] [0.1]\n",
        "\n",
        "  0 [0.15]\n",
        "```\n",
        "```\n",
        "\n",
        "e[1,  1] = min { e[1,  0] + e[2,  1] + w(1, 1) }\n",
        "\n",
        "        =   min { 0.15 + 0.1 + 0.75 } = 1.0\n",
        "\n",
        "e[2,  2] =   min { e[2,  1] + e[3,  2] + w(2, 2) }\n",
        "\n",
        "        =   min { 0.1 + 0.05 + 0.25 } = 0.4\n",
        "\n",
        " e[3,  3] =   min { e[3,  2] + e[4,  3] + w(3, 3) }\n",
        "\n",
        "         = min { 0.05 + 0.05 + 0.15 } = 0.25\n",
        "\n",
        "\n",
        "```\n",
        "```\n",
        "[e]            i\n",
        "     1       2       3       4\n",
        "  3 [0]    [0]     [0.25]   [0.05]\n",
        "\n",
        "  2 [0]    [0.4]   [0.05]\n",
        "j\n",
        "  1 [1.0]  [0.1]\n",
        "\n",
        "  0 [0.15]\n",
        "\n",
        "```\n",
        "Sí repetimos estos pasos correctamente hasta completar la matriz nos quedaría algo así:\n",
        "\n",
        "\n",
        "```\n",
        "[w]             i\n",
        "     1         2         3        4\n",
        "  3 [1.0]    [0.35]    [0.15]   [0.05]\n",
        "\n",
        "  2 [0.90]   [0.25]    [0.05]\n",
        "j\n",
        "  1 [0.75]   [0.1]\n",
        "\n",
        "  0 [0.15]\n",
        "```\n",
        "```\n",
        "[e]            i\n",
        "     1         2       3       4\n",
        "  3 [1.95]   [0.8]   [0.25]   [0.05]\n",
        "\n",
        "  2 [1.45]   [0.4]   [0.05]\n",
        "j\n",
        "  1 [1.0]    [0.1]\n",
        "\n",
        "  0 [0.15]\n",
        "\n",
        "```\n",
        "Ahora debemos construir el árbol para eso se deben cumplir ciertas condiciones\n",
        "\n",
        "\n",
        "e[1, 3] es mínimo de r = 1, so r[1, 3] = 1\n",
        "\n",
        "e[2, 3] es mínimo de r = 2, so r[2, 3] = 2\n",
        "\n",
        "e[1, 2] es mínimo de r = 1, so r[1, 2] = 1\n",
        "\n",
        "e[3, 3] es mínimo de r = 3, so r[3, 3] = 3\n",
        "\n",
        "e[2, 2] es mínimo de r = 2, so r[2, 2] = 2\n",
        "\n",
        "e[1, 1] es mínimo de r = 1, so r[1, 1] = 1\n",
        "\n",
        "\n",
        "Nos quedaría la matriz del árbol de esta manera:\n",
        "\n",
        "\n",
        "```\n",
        "[root]  \n",
        "           i\n",
        "     1     2     3       \n",
        "  3 [1]   [2]   [3]   \n",
        "\n",
        "  2 [1]   [2]   \n",
        "j\n",
        "  1 [1]    \n",
        "\n",
        "```\n",
        "\n"
      ],
      "metadata": {
        "id": "AWpgsBiPvf_v"
      }
    },
    {
      "cell_type": "markdown",
      "source": [
        "## **2.1.Codigo**"
      ],
      "metadata": {
        "id": "snZ8X4eUxegM"
      }
    },
    {
      "cell_type": "markdown",
      "source": [
        "### **bottom-up**"
      ],
      "metadata": {
        "id": "eNe0Zl8NCR0f"
      }
    },
    {
      "cell_type": "code",
      "source": [
        "import numpy as np\n",
        "from math import inf\n",
        "import random  \n",
        "import networkx as nx\n",
        "import pydot\n",
        "from networkx.drawing.nx_pydot import graphviz_layout\n",
        "\n",
        "def optimalBST(p, q, n,cont, verbose=False):\n",
        "\n",
        "#se crean las matrices\n",
        "  e = np.zeros((n+2,n+1))\n",
        "  w = np.zeros((n+2,n+1))\n",
        "  root = np.zeros((n+1, n+1), dtype = int)\n",
        "\n",
        "#se inicializan las matrices   \n",
        "  for i  in range(1,n+2):\n",
        "    e[i][i-1] = q[i-1]\n",
        "    w[i][i-1] = q[i-1]\n",
        "\n",
        "  if(verbose == True):\n",
        "    print(\"\\n\\nSe crean y se inicializa la diagonal\\n\\n\")\n",
        "    print(\"Matriz que guardara los costos minimos\")\n",
        "    print(e)\n",
        "    print()\n",
        "    print(\"Matriz que guardara las probabilidades\")\n",
        "    print(w)\n",
        "\n",
        "\n",
        "  for l  in range(1,n + 1):\n",
        "    for i in range(1, n - l + 2):\n",
        "      j = i + l - 1\n",
        "      e[i][j] = inf\n",
        "      w[i][j] = w[i][j-1] + p[j - 1] + q[j]\n",
        "\n",
        "      if(verbose == True):\n",
        "        print(\"Suma de probabilidades entre \",\"[\",i,\"]\",\"[\",j,\"]\",\"=\",round(w[i][j],4))\n",
        "      cont[0] +=1\n",
        "      for  r  in range(i,j + 1):\n",
        "          t  = e[i][r - 1] + e[r + 1][j] + w[i][j]\n",
        "          if t  < e[i][j] :\n",
        "            e[i][j] = t\n",
        "            root[i][j] = r\n",
        "            if(verbose == True):\n",
        "              print(\"Costo de la raiz \",\"[\",i,\"]\",\"[\",j,\"]\",\"=\",round(e[i][j],4))\n",
        "      if(verbose == True):\n",
        "        print(\"Matriz que guardara los costos minimos\")\n",
        "        print(e)\n",
        "        print()\n",
        "        print(\"Matriz que guardara las probabilidades\")\n",
        "        print(w)\n",
        "      if(verbose == True):\n",
        "        print(\"\\n\")\n",
        "\n",
        "#print(e,root)\n",
        "  return (e, root)\n",
        "\n",
        "cont = [0]\n",
        "p = [0.5  ,  0.1   ,  0.05]\n",
        "q = [0.15  ,  0.1 ,   0.05 ,   0.05]\n",
        "\n",
        "p = [0.2  ,  0.3  ]\n",
        "q = [0.15  ,  0.1 ,   0.05 ]\n",
        "\n",
        "verbose = False\n",
        "(e, root) = optimalBST(p, q, len(p),cont,verbose)\n",
        "\n",
        "print(\"Resultados: \\n\")\n",
        "print(e)\n",
        "print( )\n",
        "print(root)\n",
        "print(\"Comparaciones: \",cont[0])\n"
      ],
      "metadata": {
        "id": "ABZ_vwpDxd7f",
        "colab": {
          "base_uri": "https://localhost:8080/"
        },
        "outputId": "1a9b923c-2bb8-4abf-faf2-9d2e220bb0b6"
      },
      "execution_count": 5,
      "outputs": [
        {
          "output_type": "stream",
          "name": "stdout",
          "text": [
            "Resultados: \n",
            "\n",
            "[[0.   0.   0.  ]\n",
            " [0.15 0.7  1.55]\n",
            " [0.   0.1  0.6 ]\n",
            " [0.   0.   0.05]]\n",
            "\n",
            "[[0 0 0]\n",
            " [0 1 2]\n",
            " [0 0 2]]\n",
            "Comparaciones:  3\n"
          ]
        }
      ]
    },
    {
      "cell_type": "markdown",
      "source": [
        "### **Recursivo**"
      ],
      "metadata": {
        "id": "4bi4Zt_c8pXO"
      }
    },
    {
      "cell_type": "code",
      "source": [
        "import numpy as np\n",
        "from math import inf\n",
        "\n",
        "def recursiveBST(p, q, cont, inicio , fin,verbose = False):\n",
        "  cont[0]+=1\n",
        "  \n",
        "  #caso base\n",
        "  if(inicio > fin): \n",
        "    return q[inicio-1]\n",
        "\n",
        "  prob1 = sum(p[inicio - 1: fin])\n",
        "  prob2 = sum(q[inicio - 1: fin + 1])\n",
        "  probTotal = prob2 + prob1\n",
        "\n",
        "  minTot = inf\n",
        "\n",
        "  for r in range(inicio, fin + 1):\n",
        "    minIzq = recursiveBST(p,q,cont,inicio, r - 1)\n",
        "    minDer = recursiveBST(p,q,cont,r + 1, fin)\n",
        "    minActual = minIzq + minDer + probTotal\n",
        "    if(verbose == True):\n",
        "        print(\"Costo de la raiz: \",round(minActual,4))\n",
        "    \n",
        "    if(minActual < minTot ):\n",
        "      minTot = minActual\n",
        "      if(verbose == True):\n",
        "        print(\"Costo minimo de la raiz: \",round(minTot,4))\n",
        "        print(\" \")\n",
        "    else:\n",
        "      if(verbose == True):\n",
        "        print(\"Se mantinene el costo anterior\",round(minTot,4))\n",
        "        print(\" \")\n",
        "\n",
        "  return minTot\n",
        "\n",
        "verbose = False\n",
        "p = [0.15, 0.10, 0.05, 0.10, 0.20]\n",
        "q = [0.05, 0.10, 0.05, 0.05, 0.05, 0.10]\n",
        "cont = [0]\n",
        "costoEsperado = recursiveBST(p, q, cont, 1 , len(p),verbose)\n",
        "print(\" \")\n",
        "print(\"Costo minimo:\", costoEsperado)\n",
        "print(\"Cantidad llamadas recursivas:\", cont[0])\n"
      ],
      "metadata": {
        "colab": {
          "base_uri": "https://localhost:8080/"
        },
        "id": "AJUzIuDy8n3a",
        "outputId": "d34bbed1-d45d-4155-9938-b97ba1de3655"
      },
      "execution_count": 7,
      "outputs": [
        {
          "output_type": "stream",
          "name": "stdout",
          "text": [
            " \n",
            "Costo minimo: 2.75\n",
            "Cantidad llamadas recursivas: 243\n"
          ]
        }
      ]
    },
    {
      "cell_type": "markdown",
      "source": [
        "## **2.2.Verbose** "
      ],
      "metadata": {
        "id": "W8k-__r4i2MW"
      }
    },
    {
      "cell_type": "markdown",
      "source": [
        "### **Verbose bottom-up**"
      ],
      "metadata": {
        "id": "HMgsLDMgj5rA"
      }
    },
    {
      "cell_type": "code",
      "source": [
        "cont = [0]\n",
        "p = [0.5  ,  0.1   ,  0.05]\n",
        "q = [0.15  ,  0.1 ,   0.05 ,   0.05]\n",
        "\n",
        "verbose = True\n",
        "(e, root) = optimalBST(p, q, len(p),cont,verbose)\n",
        "\n",
        "print(\"Resultados: \\n\")\n",
        "print(e)\n",
        "print( )\n",
        "print(root)\n",
        "print(\"Comparaciones: \",cont[0])"
      ],
      "metadata": {
        "colab": {
          "base_uri": "https://localhost:8080/"
        },
        "id": "HUlfhLqGjyV_",
        "outputId": "4ddbc80a-f8f7-44bd-bff4-43f2ff12074b"
      },
      "execution_count": null,
      "outputs": [
        {
          "output_type": "stream",
          "name": "stdout",
          "text": [
            "\n",
            "\n",
            "Se crean y se inicializa la diagonal\n",
            "\n",
            "\n",
            "Matriz que guardara los costos minimos\n",
            "[[0.   0.   0.   0.  ]\n",
            " [0.15 0.   0.   0.  ]\n",
            " [0.   0.1  0.   0.  ]\n",
            " [0.   0.   0.05 0.  ]\n",
            " [0.   0.   0.   0.05]]\n",
            "\n",
            "Matriz que guardara las probabilidades\n",
            "[[0.   0.   0.   0.  ]\n",
            " [0.15 0.   0.   0.  ]\n",
            " [0.   0.1  0.   0.  ]\n",
            " [0.   0.   0.05 0.  ]\n",
            " [0.   0.   0.   0.05]]\n",
            "Suma de probabilidades entre  [ 1 ] [ 1 ] = 0.75\n",
            "Costo de la raiz  [ 1 ] [ 1 ] = 1.0\n",
            "Matriz que guardara los costos minimos\n",
            "[[0.   0.   0.   0.  ]\n",
            " [0.15 1.   0.   0.  ]\n",
            " [0.   0.1  0.   0.  ]\n",
            " [0.   0.   0.05 0.  ]\n",
            " [0.   0.   0.   0.05]]\n",
            "\n",
            "Matriz que guardara las probabilidades\n",
            "[[0.   0.   0.   0.  ]\n",
            " [0.15 0.75 0.   0.  ]\n",
            " [0.   0.1  0.   0.  ]\n",
            " [0.   0.   0.05 0.  ]\n",
            " [0.   0.   0.   0.05]]\n",
            "\n",
            "\n",
            "Suma de probabilidades entre  [ 2 ] [ 2 ] = 0.25\n",
            "Costo de la raiz  [ 2 ] [ 2 ] = 0.4\n",
            "Matriz que guardara los costos minimos\n",
            "[[0.   0.   0.   0.  ]\n",
            " [0.15 1.   0.   0.  ]\n",
            " [0.   0.1  0.4  0.  ]\n",
            " [0.   0.   0.05 0.  ]\n",
            " [0.   0.   0.   0.05]]\n",
            "\n",
            "Matriz que guardara las probabilidades\n",
            "[[0.   0.   0.   0.  ]\n",
            " [0.15 0.75 0.   0.  ]\n",
            " [0.   0.1  0.25 0.  ]\n",
            " [0.   0.   0.05 0.  ]\n",
            " [0.   0.   0.   0.05]]\n",
            "\n",
            "\n",
            "Suma de probabilidades entre  [ 3 ] [ 3 ] = 0.15\n",
            "Costo de la raiz  [ 3 ] [ 3 ] = 0.25\n",
            "Matriz que guardara los costos minimos\n",
            "[[0.   0.   0.   0.  ]\n",
            " [0.15 1.   0.   0.  ]\n",
            " [0.   0.1  0.4  0.  ]\n",
            " [0.   0.   0.05 0.25]\n",
            " [0.   0.   0.   0.05]]\n",
            "\n",
            "Matriz que guardara las probabilidades\n",
            "[[0.   0.   0.   0.  ]\n",
            " [0.15 0.75 0.   0.  ]\n",
            " [0.   0.1  0.25 0.  ]\n",
            " [0.   0.   0.05 0.15]\n",
            " [0.   0.   0.   0.05]]\n",
            "\n",
            "\n",
            "Suma de probabilidades entre  [ 1 ] [ 2 ] = 0.9\n",
            "Costo de la raiz  [ 1 ] [ 2 ] = 1.45\n",
            "Matriz que guardara los costos minimos\n",
            "[[0.   0.   0.   0.  ]\n",
            " [0.15 1.   1.45 0.  ]\n",
            " [0.   0.1  0.4  0.  ]\n",
            " [0.   0.   0.05 0.25]\n",
            " [0.   0.   0.   0.05]]\n",
            "\n",
            "Matriz que guardara las probabilidades\n",
            "[[0.   0.   0.   0.  ]\n",
            " [0.15 0.75 0.9  0.  ]\n",
            " [0.   0.1  0.25 0.  ]\n",
            " [0.   0.   0.05 0.15]\n",
            " [0.   0.   0.   0.05]]\n",
            "\n",
            "\n",
            "Suma de probabilidades entre  [ 2 ] [ 3 ] = 0.35\n",
            "Costo de la raiz  [ 2 ] [ 3 ] = 0.7\n",
            "Matriz que guardara los costos minimos\n",
            "[[0.   0.   0.   0.  ]\n",
            " [0.15 1.   1.45 0.  ]\n",
            " [0.   0.1  0.4  0.7 ]\n",
            " [0.   0.   0.05 0.25]\n",
            " [0.   0.   0.   0.05]]\n",
            "\n",
            "Matriz que guardara las probabilidades\n",
            "[[0.   0.   0.   0.  ]\n",
            " [0.15 0.75 0.9  0.  ]\n",
            " [0.   0.1  0.25 0.35]\n",
            " [0.   0.   0.05 0.15]\n",
            " [0.   0.   0.   0.05]]\n",
            "\n",
            "\n",
            "Suma de probabilidades entre  [ 1 ] [ 3 ] = 1.0\n",
            "Costo de la raiz  [ 1 ] [ 3 ] = 1.85\n",
            "Matriz que guardara los costos minimos\n",
            "[[0.   0.   0.   0.  ]\n",
            " [0.15 1.   1.45 1.85]\n",
            " [0.   0.1  0.4  0.7 ]\n",
            " [0.   0.   0.05 0.25]\n",
            " [0.   0.   0.   0.05]]\n",
            "\n",
            "Matriz que guardara las probabilidades\n",
            "[[0.   0.   0.   0.  ]\n",
            " [0.15 0.75 0.9  1.  ]\n",
            " [0.   0.1  0.25 0.35]\n",
            " [0.   0.   0.05 0.15]\n",
            " [0.   0.   0.   0.05]]\n",
            "\n",
            "\n",
            "Resultados: \n",
            "\n",
            "[[0.   0.   0.   0.  ]\n",
            " [0.15 1.   1.45 1.85]\n",
            " [0.   0.1  0.4  0.7 ]\n",
            " [0.   0.   0.05 0.25]\n",
            " [0.   0.   0.   0.05]]\n",
            "\n",
            "[[0 0 0 0]\n",
            " [0 1 1 1]\n",
            " [0 0 2 2]\n",
            " [0 0 0 3]]\n",
            "Comparaciones:  6\n"
          ]
        }
      ]
    },
    {
      "cell_type": "markdown",
      "source": [
        "### **Recursivo**"
      ],
      "metadata": {
        "id": "DQA6_sA5pudh"
      }
    },
    {
      "cell_type": "code",
      "source": [
        "verbose = True\n",
        "p = [0.15, 0.10, 0.05, 0.10, 0.20]\n",
        "q = [0.05, 0.10, 0.05, 0.05, 0.05, 0.10]\n",
        "cont = [0]\n",
        "costoEsperado = recursiveBST(p, q, cont, 1 , len(p),verbose)\n",
        "print(\" \")\n",
        "print(\"Costo minimo:\", costoEsperado)\n",
        "print(\"Cantidad llamadas recursivas:\", cont[0])"
      ],
      "metadata": {
        "colab": {
          "base_uri": "https://localhost:8080/"
        },
        "id": "_kFq2CHFpyqK",
        "outputId": "c9ae8975-bb8c-4e5d-dd4b-552084e32841"
      },
      "execution_count": null,
      "outputs": [
        {
          "output_type": "stream",
          "name": "stdout",
          "text": [
            "Costo de la raiz:  3.05\n",
            "Costo minimo de la raiz:  3.05\n",
            " \n",
            "Costo de la raiz:  2.75\n",
            "Costo minimo de la raiz:  2.75\n",
            " \n",
            "Costo de la raiz:  2.8\n",
            "Se mantinene el costo anterior 2.75\n",
            " \n",
            "Costo de la raiz:  2.75\n",
            "Costo minimo de la raiz:  2.75\n",
            " \n",
            "Costo de la raiz:  2.85\n",
            "Se mantinene el costo anterior 2.75\n",
            " \n",
            " \n",
            "Costo minimo: 2.75\n",
            "Cantidad llamadas recursivas: 243\n"
          ]
        }
      ]
    },
    {
      "cell_type": "markdown",
      "source": [
        "# **3.Correctitud**"
      ],
      "metadata": {
        "id": "rwxaHTOJMwlu"
      }
    },
    {
      "cell_type": "markdown",
      "source": [
        "\n",
        "Para demostrar el que el algoritmo bottom-up es correcto, debemos calcular el costo mínimo, lo que nos llevara una búsqueda bastante exhaustiva de todas las posibilidades, para eso etiquetamos los nodos de ***k_1,k_2...k_n *** para crear el árbol binario y agregarle las claves ficticias, esta búsqueda de árbol binario con n nodos tendíamos que examinar un número exponencial de árboles, por lo que es normal que debamos resolver este problema con programación dinámica.\n",
        "\n",
        "**Sub estructura óptima**\n",
        "\n",
        "Para la sub estructura optima debemos considerar que cualquier sub árbol **$k_i...k_j $** debemos saber que se debe cumplir que **$1 <= i <= j <= n$**, donde los sub arboles deben contener claves ficticias **$di-1,....dj$**\n",
        "\n",
        "Ahora sabemos que el árbol binario de búsqueda óptimo **T** tiene sub árboles que contienen las claves **$k_i...k_j $** con sus respectivas claves ficticias **$d_i-1,....d_j$** podemos decir que $k_r (i <=  r <= j)$ es sub raíz de una sub árbol óptimo que contiene todas las claves \n",
        "\n",
        "El subárbol izquierdo contendría todas la clave k_r  **$k_i...k_r-1 $** y **$di-1,....dr-1$** y el sub árbol derecho contiene **$k_r+1...k_j $**.\n",
        "\n",
        "Al examinar todos los candidatos $k_r$ y aseguraríamos que encontramos árbol binario de búsqueda óptimo mientras $i<= r <= j$\n",
        "\n",
        "\n",
        "**Definir una función recurrente**\n",
        "\n",
        "para definir nuestra función recurrente debemos saber nuestro dominio de subproblema que contenga las claves **$k_i...k_j $** cuando **$1 <= i <= j <= n$**. Ahora podemos definir e[i,j] que es el costo esperado \n",
        "\n",
        "\n",
        "\n"
      ],
      "metadata": {
        "id": "06TlIBsuM2zO"
      }
    },
    {
      "cell_type": "markdown",
      "source": [
        "![ecuacion 1.png](data:image/png;base64,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)"
      ],
      "metadata": {
        "id": "GnO5U5inER_B"
      }
    },
    {
      "cell_type": "markdown",
      "source": [
        "La manera de calcular la suma de las probabilidades para cada sub árbol seria:\n",
        "\n",
        "$w[i,j] = \\sum_{l=i}^{j}p_l + \\sum_{l=i-1}^{j}q_l$\n",
        "\n",
        "De esta manera tenemos que en el caso de que $K_r$ es una raíz de un árbol binario de búsqueda óptimo **$k_i...k_j $** tenemos que:\n",
        "\n",
        "$e[i,j] = p_r + (e[i,r-1]+w(i,r-1))+(e[r+1,j]+w(r+1,j))$\n",
        "\n",
        "ahora podemos notar que:\n",
        "\n",
        "$w(i,j)=w(i,r-1) + p_r + w(r+1,j)$\n",
        "\n",
        "ahora que notamos como queda $w(i,j)$ podemos reescribir $e[i,j]$\n",
        "\n",
        "$e[i,j] = e[i,r-1] + e[r+1,j]+ w(i,j)$\n",
        "\n",
        "La fórmula recursiva nos quedaría así:\n",
        "\n"
      ],
      "metadata": {
        "id": "BZQsu7HDEWFh"
      }
    },
    {
      "cell_type": "markdown",
      "source": [
        "![formula final.png](data:image/png;base64,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)"
      ],
      "metadata": {
        "id": "TstaBiOyK16y"
      }
    },
    {
      "cell_type": "markdown",
      "source": [
        "**Demostrando la correctitud**\n",
        "\n",
        "Al inicio de nuestro algoritmo las matriz e[] contendrá los mínimos obtenidos en cada iteración de l...n, para lograr calcular el costo mínimo.\n",
        "\n",
        "Inicialización:\n",
        "\n",
        "Al principio se crean y se inicializa la diagonal de la matriz e[] que contiene la suma de los costos mínimos, esto siempre será correcto porque aún no tenemos sub problemas\n",
        "\n",
        "\n",
        "Mantención:\n",
        "\n",
        "Durante la ejecución se sumarán las probabilidades para cada raíz $k_0...K_n$ y se calculara el costo mínimo, esto es correcto porque se irán guardando solo los mínimos calculados en la matriz e[].\n",
        "\n",
        "\n",
        "Finalización: \n",
        "\n",
        "Por último vamos a tener la solución del problema final gracias este paradigma de programación dinámica \n"
      ],
      "metadata": {
        "id": "5w15gPL4LBUf"
      }
    },
    {
      "cell_type": "markdown",
      "source": [
        "# **4.Tiempo de ejecución**"
      ],
      "metadata": {
        "id": "ghRQk8rs6aZY"
      }
    },
    {
      "cell_type": "markdown",
      "source": [],
      "metadata": {
        "id": "rEUMw_sMTd9D"
      }
    },
    {
      "cell_type": "markdown",
      "source": [
        "# **5.Experimentos**"
      ],
      "metadata": {
        "id": "WSs0r6T--RNj"
      }
    },
    {
      "cell_type": "code",
      "source": [
        "import random\n",
        "import numpy as np\n",
        "from timeit import repeat\n",
        "import matplotlib.pyplot as plt\n",
        "\n",
        "def optimal_bst_instance_generator(n):\n",
        "    keys = sorted(random.sample(range(1, 100), n))\n",
        "    arr = np.random.random(n*2+1)\n",
        "    arr /= arr.sum()\n",
        "    \n",
        "    p = list(arr[:n]) # Probabilidad de las claves\n",
        "    q = arr[n:] # Probabilidad de las claves ficticias\n",
        "    return keys, p, q.tolist()"
      ],
      "metadata": {
        "id": "8TWLUwPVBh5o"
      },
      "execution_count": null,
      "outputs": []
    },
    {
      "cell_type": "code",
      "source": [
        "x=[]; y1=[]; y2=[];\n",
        "\n",
        "for n in range(5,10):\n",
        "  keys, p, q = optimal_bst_instance_generator(n)\n",
        "  cont = [0]\n",
        "  verbose = False\n",
        "  t1= repeat(setup=\"from __main__ import optimalBST\", stmt=f\"optimalBST({p},{q},{len(p)},{cont},{verbose})\", repeat=1, number=10)\n",
        "  t2 = repeat(setup=\"from __main__ import recursiveBST\", stmt=f\"recursiveBST({p},{q},{cont},{1},{len(p)},{verbose})\", repeat=1, number=10)\n",
        "\n",
        "  x.append(n)\n",
        "  y1.append(t1)\n",
        "  y2.append(t2)\n",
        "\n",
        "plt.plot(x,y1)\n",
        "plt.plot(x,y2)\n",
        "plt.legend([\"Bottom-Up\", \"Recursivo\"])\n",
        "\n",
        "plt.xlabel('n')\n",
        "plt.ylabel('Tiempo en ms')\n",
        "plt.show()"
      ],
      "metadata": {
        "colab": {
          "base_uri": "https://localhost:8080/",
          "height": 279
        },
        "id": "ZGtvxQs5-U3X",
        "outputId": "6d4727bb-4827-4e03-f4b5-494959e2e2f3"
      },
      "execution_count": null,
      "outputs": [
        {
          "output_type": "display_data",
          "data": {
            "text/plain": [
              "<Figure size 432x288 with 1 Axes>"
            ],
            "image/png": "[encoded data removed]"
          },
          "metadata": {
            "needs_background": "light"
          }
        }
      ]
    },
    {
      "cell_type": "markdown",
      "source": [
        "# **6.Análisis gráfico:**"
      ],
      "metadata": {
        "id": "mPMj6qNl0wNe"
      }
    },
    {
      "cell_type": "markdown",
      "source": [
        "OptimalBST v/s recursiveBST:\n",
        "\n",
        "Se puede observar que ambos métodos tienen distintos tiempos para encontrar el costo mínimo de búsqueda binaria de árbol, es bastante notoria la diferencia de tiempo que tardan solucionado el mismo problema esto se produce debido a que la programación dinámica es mucho mejor y más eficiente en este tipo de problemas.\n",
        "\n",
        "Incluso si analizamos el gráfico pareciera que el método botton-up es casi lineal y el recursivo tiene estilo de un crecimiento cuadratico aun que es $3^n$\n",
        "\n"
      ],
      "metadata": {
        "id": "52pENjRy0zWt"
      }
    }
  ]
}