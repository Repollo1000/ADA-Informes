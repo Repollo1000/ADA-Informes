{
  "nbformat": 4,
  "nbformat_minor": 0,
  "metadata": {
    "colab": {
      "provenance": [],
      "include_colab_link": true
    },
    "kernelspec": {
      "name": "python3",
      "display_name": "Python 3"
    },
    "language_info": {
      "name": "python"
    }
  },
  "cells": [
    {
      "cell_type": "markdown",
      "metadata": {
        "id": "view-in-github",
        "colab_type": "text"
      },
      "source": [
        "<a href=\"https://colab.research.google.com/github/Repollo1000/ADA-Informes/blob/main/Informe_KnapsackProblem.ipynb\" target=\"_parent\"><img src=\"https://colab.research.google.com/assets/colab-badge.svg\" alt=\"Open In Colab\"/></a>"
      ]
    },
    {
      "cell_type": "markdown",
      "source": [
        "# **1.Descripcion del problema**"
      ],
      "metadata": {
        "id": "j4No2uyjYVGi"
      }
    },
    {
      "cell_type": "markdown",
      "source": [
        "Este problema tendrá una entrada de $n$ objetos con sus respectivos valores que serán ingresados en dos arreglos.\n",
        "\n",
        "```\n",
        "Wm [peso máximo mochila]\n",
        "i [claves]\n",
        "v [valor]\n",
        "w [peso o tamaño]\n",
        "```\n",
        "\n",
        "*   V representa el valor del objeto\n",
        "*   W Peso de los objetos\n",
        "*   Wm peso máximo mochila\n",
        "*   i Claves para cada objeto\n",
        "\n",
        "La intención de este problema es lograr calcular el subconjunto de valor máximo donde la suma de los pesos no supere el peso máximo soportado por la mochila sin dividir el objeto.\n",
        "\n",
        "Este problema se puede resolver de varias maneras, la primera manera que vamos a ver será con un algoritmo dinámico y la otra manera se utilizara la estrategia de greedy."
      ],
      "metadata": {
        "id": "-a6d913-ZGrl"
      }
    },
    {
      "cell_type": "markdown",
      "source": [
        "# **2.Descripcion del algoritmo**"
      ],
      "metadata": {
        "id": "XVeMNg9sd0f4"
      }
    },
    {
      "cell_type": "markdown",
      "source": [
        "## **2.1.Implementacion programación dinámica**"
      ],
      "metadata": {
        "id": "XLZvFizTnSPN"
      }
    },
    {
      "cell_type": "markdown",
      "source": [
        "Como vimos en informes pasados la programación dinámica su utiliza cuando los sub problemas se repiten varias veces, para estos casos nos conviene crear una tabla para ir guardando los sub problemas y evitar resolver los mismos problemas más de una vez.\n",
        "\n",
        "Ahora, para resolver el problema de la mochila dinámico debemos seguir una serie de pasos y así lograr la solución más óptima. \n",
        "Este algoritmo va a recibir una matriz del tamaño del peso máximo de la mochila (**Wm+1 x Wm+1**), las claves de cada objeto, los valores de los objetos.\n",
        "\n",
        "Los pasos para que el algoritmo funcione de manera dinámica seria:\n",
        "\n",
        "\n",
        "1.   Generar e inicializar la matriz con 0\n",
        "2.   Recorrer filas y columnas de la matriz\n",
        "3.   En cada ciclo calcular el máximo valor posible\n",
        "4.   En el caso de que efectivamente es mayor al valor anterior, guardar en la matriz\n",
        "\n",
        "\n"
      ],
      "metadata": {
        "id": "xIXApmpSnniG"
      }
    },
    {
      "cell_type": "markdown",
      "source": [
        "## **2.2.Implementacion con metodo greedy**"
      ],
      "metadata": {
        "id": "kWmRu3IVsQ2U"
      }
    },
    {
      "cell_type": "markdown",
      "source": [
        "Para resolver **problemas de optimización**, un **algoritmo voraz** (o greedy) es uno que realiza, en cada momento, la acción que **parece ser la mejor**.\n",
        "\n",
        "Los algoritmos voraces son métodos bastante potentes que funcionan bien en una amplia gama de problemas. Sin embargo, **no siempre encuentran la solución óptima**.\n",
        "\n",
        "\n",
        "\n",
        "*   Se crea un arreglo con los indices de las claves.\n",
        "*   Se calcula valor / peso y se guarda en un arreglo.\n",
        "*   Se ordennan de mator a menor.\n",
        "*   Se recorre el arreglo de izquierda a derecha agregando lo items a la mochila.\n",
        "\n"
      ],
      "metadata": {
        "id": "AQQu3bW4sboR"
      }
    },
    {
      "cell_type": "markdown",
      "source": [
        "## **2.3 Ejemplo paso a paso**"
      ],
      "metadata": {
        "id": "CYg-TJ2gDyCb"
      }
    },
    {
      "cell_type": "markdown",
      "source": [
        "$W=5$ \n",
        " \n",
        "tres items: \n",
        "\n",
        "$w_1=1, v_1=6$\n",
        "\n",
        "$w_2=2,v_2=10$\n",
        "\n",
        "$w_3=3,v_3=12$\n",
        "\n",
        "tabla \n",
        "\n",
        "\n",
        "Primero logramos tener un arreglo entre $v[i]/p[i]$ \n",
        "```\n",
        "v[i]  =  [6]  [12]  [10]\n",
        "\n",
        "p[i]  =  [1]   [3]   [2] \n",
        "\n",
        "v[i]/p[i] = [6]   [4]   [5]\n",
        "\n",
        "```\n",
        "Despúes ordenamos de menor a mayor \n",
        "```\n",
        "v[i]  =    [12]  [10] [6] \n",
        "\n",
        "p[i]  =    [3]   [2]  [1] \n",
        "\n",
        "v[i]/p[i] =  [4] [5]  [6]\n",
        "\n",
        "```\n",
        "\n",
        "Finalmente se llena la mochila hasta completar el peso máximo. \n",
        "\n",
        "En este caso el valor seria 22 y la mochila contendiria \n",
        "\n",
        "v[i]  =    [12] + [10] = 22-->valor\n",
        "\n",
        "p[i]  =    [3]  + [2] = 5-->peso"
      ],
      "metadata": {
        "id": "AUDOdnrfQU3c"
      }
    },
    {
      "cell_type": "markdown",
      "source": [
        "## **2.4.Código**"
      ],
      "metadata": {
        "id": "Z8JAC_E3c3Ch"
      }
    },
    {
      "cell_type": "code",
      "source": [
        "import random\n",
        "\n",
        "def knapsack_instance_generator(N):\n",
        "  val = []\n",
        "  wt = []\n",
        "  prev_v = 0\n",
        "  prev_w = 0\n",
        "  for i in range(N):\n",
        "    v = random.randint(1, 100)\n",
        "    val.append(prev_v + v)\n",
        "    prev_v += v\n",
        "    \n",
        "    w = random.randint(1, 10)\n",
        "    wt.append(prev_w + w)\n",
        "    if (v >= 50):\n",
        "        prev_w += w\n",
        "\n",
        "  W = int(sum(wt) / 2)\n",
        "  return W, val, wt\n",
        "\n",
        "W, val, wt = knapsack_instance_generator(10)"
      ],
      "metadata": {
        "id": "nmjvklY1dCzT"
      },
      "execution_count": null,
      "outputs": []
    },
    {
      "cell_type": "code",
      "source": [
        "print(W,val,wt)"
      ],
      "metadata": {
        "colab": {
          "base_uri": "https://localhost:8080/"
        },
        "id": "yFtWfvfun_I1",
        "outputId": "583ce001-204a-440a-b3f8-b5a193f833ef"
      },
      "execution_count": null,
      "outputs": [
        {
          "output_type": "stream",
          "name": "stdout",
          "text": [
            "58 [9, 53, 109, 126, 131, 152, 226, 321, 416, 435] [7, 2, 7, 9, 14, 10, 11, 13, 20, 24]\n"
          ]
        }
      ]
    },
    {
      "cell_type": "markdown",
      "source": [
        "### **Codigo dinamico**"
      ],
      "metadata": {
        "id": "KA10BIWpdCUV"
      }
    },
    {
      "cell_type": "code",
      "source": [
        "import numpy as np\n",
        "from math import inf\n",
        "import random \n",
        "\n",
        "def knapSack_dinamico(W, wt, val, n,cont,verbose = False):\n",
        "    #se grenera una matriz del peso + 1\n",
        "    #K = [[0 for x in range(W + 1)] for x in range(n + 1)]\n",
        "    K = np.zeros((n+1,W+1))\n",
        "    if verbose == True:\n",
        "      print(\"se crea la matriz\")\n",
        "      print(K)\n",
        "      print(\"\\n\")\n",
        "    # se construye la matriz K[][] del metodo bottom up \n",
        "    for i in range(n + 1):\n",
        "        for j in range(W + 1):\n",
        "            cont[0] = cont[0] + 1\n",
        "            if i == 0 or j == 0:\n",
        "                K[i][j] = 0\n",
        "            elif wt[i-1] <= j:\n",
        "                K[i][j] = max(val[i-1] + K[i-1][j-wt[i-1]], K[i-1][j])\n",
        "                #print(\"se calcula el valor maximo en la posicion\",\"[\",i,j,\"]\" )\n",
        "            else:\n",
        "              K[i][j] = K[i-1][j]\n",
        "            if verbose == True:\n",
        "              print(\"Matriz resultante despues de calcular el maximo\")\n",
        "              print(K)\n",
        "              print(\"\")\n",
        "\n",
        "    if verbose == True:\n",
        "      print(\"Se escoge la ultima casilla\")\n",
        "    return K[n][W]\n",
        "\n",
        "cont = [0]\n",
        "verbose = False\n",
        "val = [6, 10, 12]\n",
        "wt = [1, 2, 3]\n",
        "W = 5\n",
        "n = len(val)\n",
        "\n",
        "print(knapSack_dinamico(W, wt, val, n,cont,verbose))\n",
        "\n"
      ],
      "metadata": {
        "colab": {
          "base_uri": "https://localhost:8080/"
        },
        "id": "-u8KfYj7oJSL",
        "outputId": "f5e90fbc-0896-4ce5-dc78-1a10338a3870"
      },
      "execution_count": 66,
      "outputs": [
        {
          "output_type": "stream",
          "name": "stdout",
          "text": [
            "22.0\n"
          ]
        }
      ]
    },
    {
      "cell_type": "markdown",
      "source": [
        "### **Codigo greedy**"
      ],
      "metadata": {
        "id": "3_PXJFZtJipA"
      }
    },
    {
      "cell_type": "code",
      "source": [
        "def KnapSack_greedy(val, wt, W, n,cont, verbose = False):\n",
        "\t\n",
        "  Val_wt = []\n",
        "  indices = []\n",
        "\n",
        "  #Se inicializan ambos arreglos\n",
        "  for i in range(n): Val_wt.append(val[i] / wt[i])\n",
        "\n",
        "  if verbose == True: print(f\"Arreglo de razones valor/peso de cada objeto: {Val_wt}\")\n",
        "  \n",
        "  for i in range(n): indices.append(i)\n",
        "  if verbose == True: print(f\"Arreglo de indices de cada objeto: {indices}\")\n",
        "\n",
        "  if verbose == True: \n",
        "    print(\"Se ordenan los arreglos\")\n",
        "    print(\" \")\n",
        "\n",
        "  for i in range(n):\n",
        "    mayor = 0\n",
        "    for j in range(i, n):\n",
        "\n",
        "      if (Val_wt[j] > mayor): \n",
        "        if verbose == True: print(f\"{Val_wt[j]} > {mayor} \")\n",
        "        mayor = Val_wt[j]\n",
        "        if verbose == True: print(f\"Valor máximo: {mayor}\")\n",
        "        Val_wt[j], Val_wt[i] = Val_wt[i], Val_wt[j]\n",
        "        indices[j], indices[i] = indices[i], indices[j]\n",
        "\n",
        "    if verbose == True: print(\" \")\n",
        "  \n",
        "  if verbose == True: \n",
        "    print(f\"Arreglo ordenado de indices: {indices}\")\n",
        "    print(f\"Arreglo val / wt: {Val_wt}\")\n",
        "    print(\"Almacenamos en la mochila\")\n",
        "    print(\" \")\n",
        "\n",
        "  valorAlmacenado = 0\n",
        "\n",
        "  #Se recorren los objetos en orden\n",
        "  for i in indices:\n",
        "    \n",
        "    cont[0] += 1\n",
        "    if (wt[i] <= W):\n",
        "      valorAlmacenado += val[i]\n",
        "      W -= wt[i]\n",
        "\n",
        "  #Finalmente se retorna el máximo valor que se pudo almacenar\n",
        "  return valorAlmacenado\n",
        "\n",
        "\n",
        "val = [6, 10, 12]\n",
        "wt = [1, 2, 3]\n",
        "W = 5\n",
        "cont = [0]\n",
        "verbose = True\n",
        "\n",
        "n = len(val)\n",
        "valorMaximo = KnapSack_greedy(val, wt, W, n,cont,verbose)\n",
        "print(f\"Valor maximo {valorMaximo}\")\n",
        "print(\"Cantidad de iteraciones:\", cont)"
      ],
      "metadata": {
        "id": "6tT8-YKkqr95",
        "colab": {
          "base_uri": "https://localhost:8080/"
        },
        "outputId": "02781489-34d1-4942-a997-a62c90e76f25"
      },
      "execution_count": 93,
      "outputs": [
        {
          "output_type": "stream",
          "name": "stdout",
          "text": [
            "Arreglo de razones valor/peso de cada objeto: [6.0, 5.0, 4.0]\n",
            "Arreglo de indices de cada objeto: [0, 1, 2]\n",
            "Se ordenan los arreglos\n",
            " \n",
            "6.0 > 0 \n",
            "Valor máximo: 6.0\n",
            " \n",
            "5.0 > 0 \n",
            "Valor máximo: 5.0\n",
            " \n",
            "4.0 > 0 \n",
            "Valor máximo: 4.0\n",
            " \n",
            "Arreglo ordenado de indices: [0, 1, 2]\n",
            "Arreglo val / wt: [6.0, 5.0, 4.0]\n",
            "Almacenamos en la mochila\n",
            " \n",
            "Valor maximo 16\n",
            "Cantidad de iteraciones: [3]\n"
          ]
        }
      ]
    },
    {
      "cell_type": "markdown",
      "source": [
        "## **2.5.Vebose(Dinamico)**"
      ],
      "metadata": {
        "id": "EmtBeZgAwJGE"
      }
    },
    {
      "cell_type": "code",
      "source": [
        "verbose = True\n",
        "val = [6, 10, 12]\n",
        "wt = [1, 2, 3]\n",
        "W = 5\n",
        "n = len(val)\n",
        "\n",
        "print(knapSack_dinamico(W, wt, val, n,verbose))\n"
      ],
      "metadata": {
        "colab": {
          "base_uri": "https://localhost:8080/"
        },
        "id": "zT_fsFyMwSzU",
        "outputId": "d027ad31-5210-4793-c8ab-c20cfa84cb1a"
      },
      "execution_count": null,
      "outputs": [
        {
          "output_type": "stream",
          "name": "stdout",
          "text": [
            "se crea la matriz\n",
            "[[0. 0. 0. 0. 0. 0.]\n",
            " [0. 0. 0. 0. 0. 0.]\n",
            " [0. 0. 0. 0. 0. 0.]\n",
            " [0. 0. 0. 0. 0. 0.]]\n",
            "\n",
            "\n",
            "Matriz resultante despues de calcular el maximo\n",
            "[[0. 0. 0. 0. 0. 0.]\n",
            " [0. 0. 0. 0. 0. 0.]\n",
            " [0. 0. 0. 0. 0. 0.]\n",
            " [0. 0. 0. 0. 0. 0.]]\n",
            "\n",
            "Matriz resultante despues de calcular el maximo\n",
            "[[0. 0. 0. 0. 0. 0.]\n",
            " [0. 0. 0. 0. 0. 0.]\n",
            " [0. 0. 0. 0. 0. 0.]\n",
            " [0. 0. 0. 0. 0. 0.]]\n",
            "\n",
            "Matriz resultante despues de calcular el maximo\n",
            "[[0. 0. 0. 0. 0. 0.]\n",
            " [0. 0. 0. 0. 0. 0.]\n",
            " [0. 0. 0. 0. 0. 0.]\n",
            " [0. 0. 0. 0. 0. 0.]]\n",
            "\n",
            "Matriz resultante despues de calcular el maximo\n",
            "[[0. 0. 0. 0. 0. 0.]\n",
            " [0. 0. 0. 0. 0. 0.]\n",
            " [0. 0. 0. 0. 0. 0.]\n",
            " [0. 0. 0. 0. 0. 0.]]\n",
            "\n",
            "Matriz resultante despues de calcular el maximo\n",
            "[[0. 0. 0. 0. 0. 0.]\n",
            " [0. 0. 0. 0. 0. 0.]\n",
            " [0. 0. 0. 0. 0. 0.]\n",
            " [0. 0. 0. 0. 0. 0.]]\n",
            "\n",
            "Matriz resultante despues de calcular el maximo\n",
            "[[0. 0. 0. 0. 0. 0.]\n",
            " [0. 0. 0. 0. 0. 0.]\n",
            " [0. 0. 0. 0. 0. 0.]\n",
            " [0. 0. 0. 0. 0. 0.]]\n",
            "\n",
            "Matriz resultante despues de calcular el maximo\n",
            "[[0. 0. 0. 0. 0. 0.]\n",
            " [0. 0. 0. 0. 0. 0.]\n",
            " [0. 0. 0. 0. 0. 0.]\n",
            " [0. 0. 0. 0. 0. 0.]]\n",
            "\n",
            "Matriz resultante despues de calcular el maximo\n",
            "[[0. 0. 0. 0. 0. 0.]\n",
            " [0. 6. 0. 0. 0. 0.]\n",
            " [0. 0. 0. 0. 0. 0.]\n",
            " [0. 0. 0. 0. 0. 0.]]\n",
            "\n",
            "Matriz resultante despues de calcular el maximo\n",
            "[[0. 0. 0. 0. 0. 0.]\n",
            " [0. 6. 6. 0. 0. 0.]\n",
            " [0. 0. 0. 0. 0. 0.]\n",
            " [0. 0. 0. 0. 0. 0.]]\n",
            "\n",
            "Matriz resultante despues de calcular el maximo\n",
            "[[0. 0. 0. 0. 0. 0.]\n",
            " [0. 6. 6. 6. 0. 0.]\n",
            " [0. 0. 0. 0. 0. 0.]\n",
            " [0. 0. 0. 0. 0. 0.]]\n",
            "\n",
            "Matriz resultante despues de calcular el maximo\n",
            "[[0. 0. 0. 0. 0. 0.]\n",
            " [0. 6. 6. 6. 6. 0.]\n",
            " [0. 0. 0. 0. 0. 0.]\n",
            " [0. 0. 0. 0. 0. 0.]]\n",
            "\n",
            "Matriz resultante despues de calcular el maximo\n",
            "[[0. 0. 0. 0. 0. 0.]\n",
            " [0. 6. 6. 6. 6. 6.]\n",
            " [0. 0. 0. 0. 0. 0.]\n",
            " [0. 0. 0. 0. 0. 0.]]\n",
            "\n",
            "Matriz resultante despues de calcular el maximo\n",
            "[[0. 0. 0. 0. 0. 0.]\n",
            " [0. 6. 6. 6. 6. 6.]\n",
            " [0. 0. 0. 0. 0. 0.]\n",
            " [0. 0. 0. 0. 0. 0.]]\n",
            "\n",
            "[[0. 0. 0. 0. 0. 0.]\n",
            " [0. 6. 6. 6. 6. 6.]\n",
            " [0. 0. 0. 0. 0. 0.]\n",
            " [0. 0. 0. 0. 0. 0.]]\n",
            "Matriz resultante despues de calcular el maximo\n",
            "[[0. 0. 0. 0. 0. 0.]\n",
            " [0. 6. 6. 6. 6. 6.]\n",
            " [0. 6. 0. 0. 0. 0.]\n",
            " [0. 0. 0. 0. 0. 0.]]\n",
            "\n",
            "Matriz resultante despues de calcular el maximo\n",
            "[[ 0.  0.  0.  0.  0.  0.]\n",
            " [ 0.  6.  6.  6.  6.  6.]\n",
            " [ 0.  6. 10.  0.  0.  0.]\n",
            " [ 0.  0.  0.  0.  0.  0.]]\n",
            "\n",
            "Matriz resultante despues de calcular el maximo\n",
            "[[ 0.  0.  0.  0.  0.  0.]\n",
            " [ 0.  6.  6.  6.  6.  6.]\n",
            " [ 0.  6. 10. 16.  0.  0.]\n",
            " [ 0.  0.  0.  0.  0.  0.]]\n",
            "\n",
            "Matriz resultante despues de calcular el maximo\n",
            "[[ 0.  0.  0.  0.  0.  0.]\n",
            " [ 0.  6.  6.  6.  6.  6.]\n",
            " [ 0.  6. 10. 16. 16.  0.]\n",
            " [ 0.  0.  0.  0.  0.  0.]]\n",
            "\n",
            "Matriz resultante despues de calcular el maximo\n",
            "[[ 0.  0.  0.  0.  0.  0.]\n",
            " [ 0.  6.  6.  6.  6.  6.]\n",
            " [ 0.  6. 10. 16. 16. 16.]\n",
            " [ 0.  0.  0.  0.  0.  0.]]\n",
            "\n",
            "Matriz resultante despues de calcular el maximo\n",
            "[[ 0.  0.  0.  0.  0.  0.]\n",
            " [ 0.  6.  6.  6.  6.  6.]\n",
            " [ 0.  6. 10. 16. 16. 16.]\n",
            " [ 0.  0.  0.  0.  0.  0.]]\n",
            "\n",
            "[[ 0.  0.  0.  0.  0.  0.]\n",
            " [ 0.  6.  6.  6.  6.  6.]\n",
            " [ 0.  6. 10. 16. 16. 16.]\n",
            " [ 0.  0.  0.  0.  0.  0.]]\n",
            "Matriz resultante despues de calcular el maximo\n",
            "[[ 0.  0.  0.  0.  0.  0.]\n",
            " [ 0.  6.  6.  6.  6.  6.]\n",
            " [ 0.  6. 10. 16. 16. 16.]\n",
            " [ 0.  6.  0.  0.  0.  0.]]\n",
            "\n",
            "[[ 0.  0.  0.  0.  0.  0.]\n",
            " [ 0.  6.  6.  6.  6.  6.]\n",
            " [ 0.  6. 10. 16. 16. 16.]\n",
            " [ 0.  6.  0.  0.  0.  0.]]\n",
            "Matriz resultante despues de calcular el maximo\n",
            "[[ 0.  0.  0.  0.  0.  0.]\n",
            " [ 0.  6.  6.  6.  6.  6.]\n",
            " [ 0.  6. 10. 16. 16. 16.]\n",
            " [ 0.  6. 10.  0.  0.  0.]]\n",
            "\n",
            "Matriz resultante despues de calcular el maximo\n",
            "[[ 0.  0.  0.  0.  0.  0.]\n",
            " [ 0.  6.  6.  6.  6.  6.]\n",
            " [ 0.  6. 10. 16. 16. 16.]\n",
            " [ 0.  6. 10. 16.  0.  0.]]\n",
            "\n",
            "Matriz resultante despues de calcular el maximo\n",
            "[[ 0.  0.  0.  0.  0.  0.]\n",
            " [ 0.  6.  6.  6.  6.  6.]\n",
            " [ 0.  6. 10. 16. 16. 16.]\n",
            " [ 0.  6. 10. 16. 18.  0.]]\n",
            "\n",
            "Matriz resultante despues de calcular el maximo\n",
            "[[ 0.  0.  0.  0.  0.  0.]\n",
            " [ 0.  6.  6.  6.  6.  6.]\n",
            " [ 0.  6. 10. 16. 16. 16.]\n",
            " [ 0.  6. 10. 16. 18. 22.]]\n",
            "\n",
            "22.0\n"
          ]
        }
      ]
    },
    {
      "cell_type": "markdown",
      "source": [
        "## **2.6.Vebose(greedy)**"
      ],
      "metadata": {
        "id": "pePvi_L5w-Sa"
      }
    },
    {
      "cell_type": "code",
      "source": [
        "val = [6, 10, 12]\n",
        "wt = [1, 2, 3]\n",
        "W = 20\n",
        "W, val, wt = knapsack_instance_generator(10)\n",
        "cont = [0]\n",
        "verbose = True\n",
        "\n",
        "n = len(val)\n",
        "valorMaximo = KnapSack_greedy(val, wt, W, n,cont,verbose)\n",
        "print(f\"Valor maximo {valorMaximo}\")\n",
        "print(\"Cantidad de iteraciones:\", cont)"
      ],
      "metadata": {
        "colab": {
          "base_uri": "https://localhost:8080/"
        },
        "id": "SQ4rHpYK63H5",
        "outputId": "9b5736c8-eece-495a-9c3d-546e80508e89"
      },
      "execution_count": 94,
      "outputs": [
        {
          "output_type": "stream",
          "name": "stdout",
          "text": [
            "Arreglo de razones valor/peso de cada objeto: [17.333333333333332, 16.428571428571427, 8.125, 16.0, 17.454545454545453, 16.25, 14.75, 22.90909090909091, 28.88888888888889, 25.272727272727273]\n",
            "Arreglo de indices de cada objeto: [0, 1, 2, 3, 4, 5, 6, 7, 8, 9]\n",
            "Se ordenan los arreglos\n",
            " \n",
            "17.333333333333332 > 0 \n",
            "Valor máximo: 17.333333333333332\n",
            "17.454545454545453 > 17.333333333333332 \n",
            "Valor máximo: 17.454545454545453\n",
            "22.90909090909091 > 17.454545454545453 \n",
            "Valor máximo: 22.90909090909091\n",
            "28.88888888888889 > 22.90909090909091 \n",
            "Valor máximo: 28.88888888888889\n",
            " \n",
            "16.428571428571427 > 0 \n",
            "Valor máximo: 16.428571428571427\n",
            "17.333333333333332 > 16.428571428571427 \n",
            "Valor máximo: 17.333333333333332\n",
            "17.454545454545453 > 17.333333333333332 \n",
            "Valor máximo: 17.454545454545453\n",
            "22.90909090909091 > 17.454545454545453 \n",
            "Valor máximo: 22.90909090909091\n",
            "25.272727272727273 > 22.90909090909091 \n",
            "Valor máximo: 25.272727272727273\n",
            " \n",
            "8.125 > 0 \n",
            "Valor máximo: 8.125\n",
            "16.0 > 8.125 \n",
            "Valor máximo: 16.0\n",
            "16.428571428571427 > 16.0 \n",
            "Valor máximo: 16.428571428571427\n",
            "17.333333333333332 > 16.428571428571427 \n",
            "Valor máximo: 17.333333333333332\n",
            "17.454545454545453 > 17.333333333333332 \n",
            "Valor máximo: 17.454545454545453\n",
            "22.90909090909091 > 17.454545454545453 \n",
            "Valor máximo: 22.90909090909091\n",
            " \n",
            "8.125 > 0 \n",
            "Valor máximo: 8.125\n",
            "16.0 > 8.125 \n",
            "Valor máximo: 16.0\n",
            "16.25 > 16.0 \n",
            "Valor máximo: 16.25\n",
            "16.428571428571427 > 16.25 \n",
            "Valor máximo: 16.428571428571427\n",
            "17.333333333333332 > 16.428571428571427 \n",
            "Valor máximo: 17.333333333333332\n",
            "17.454545454545453 > 17.333333333333332 \n",
            "Valor máximo: 17.454545454545453\n",
            " \n",
            "8.125 > 0 \n",
            "Valor máximo: 8.125\n",
            "16.0 > 8.125 \n",
            "Valor máximo: 16.0\n",
            "16.25 > 16.0 \n",
            "Valor máximo: 16.25\n",
            "16.428571428571427 > 16.25 \n",
            "Valor máximo: 16.428571428571427\n",
            "17.333333333333332 > 16.428571428571427 \n",
            "Valor máximo: 17.333333333333332\n",
            " \n",
            "8.125 > 0 \n",
            "Valor máximo: 8.125\n",
            "14.75 > 8.125 \n",
            "Valor máximo: 14.75\n",
            "16.0 > 14.75 \n",
            "Valor máximo: 16.0\n",
            "16.25 > 16.0 \n",
            "Valor máximo: 16.25\n",
            "16.428571428571427 > 16.25 \n",
            "Valor máximo: 16.428571428571427\n",
            " \n",
            "8.125 > 0 \n",
            "Valor máximo: 8.125\n",
            "14.75 > 8.125 \n",
            "Valor máximo: 14.75\n",
            "16.0 > 14.75 \n",
            "Valor máximo: 16.0\n",
            "16.25 > 16.0 \n",
            "Valor máximo: 16.25\n",
            " \n",
            "8.125 > 0 \n",
            "Valor máximo: 8.125\n",
            "14.75 > 8.125 \n",
            "Valor máximo: 14.75\n",
            "16.0 > 14.75 \n",
            "Valor máximo: 16.0\n",
            " \n",
            "8.125 > 0 \n",
            "Valor máximo: 8.125\n",
            "14.75 > 8.125 \n",
            "Valor máximo: 14.75\n",
            " \n",
            "8.125 > 0 \n",
            "Valor máximo: 8.125\n",
            " \n",
            "Arreglo ordenado de indices: [8, 9, 7, 4, 0, 1, 5, 3, 6, 2]\n",
            "Arreglo val / wt: [28.88888888888889, 25.272727272727273, 22.90909090909091, 17.454545454545453, 17.333333333333332, 16.428571428571427, 16.25, 16.0, 14.75, 8.125]\n",
            "Almacenamos en la mochila\n",
            " \n",
            "Valor maximo 1149\n",
            "Cantidad de iteraciones: [10]\n"
          ]
        }
      ]
    },
    {
      "cell_type": "markdown",
      "source": [
        "# **3.Correctitud**"
      ],
      "metadata": {
        "id": "kvc-abZGcGl_"
      }
    },
    {
      "cell_type": "markdown",
      "source": [
        "Para demostrar que la solución es correcta debemos realizarnos la siguiente pregunta ¿hemos obtenido la solución óptima?. Sabemos que para obtener la solución óptima debemos encontrar la combinación necesaria que contenga el valor máximo y utilice todo el espacio de la mochila.\n",
        "\n",
        "**Correctitud (Forma dinámica)**:\n",
        "\n",
        "Demostraremos la correctitud con la sub estructura óptima que consiste en 3 condiciones para la matriz\n",
        "\n",
        "\n",
        "*   Si $i = 0$ y $p = 0$  --->  $0$\n",
        "*   Si $p[i]>p$ ---> $m[i-1,p]$\n",
        "*   Si $p[i]<=p$ --->  $max(m[ i - 1 , p],m[i-1.p-p[i]]+v[i])$\n",
        "Para entender mejor las condiciones:\n",
        "\n",
        "\n",
        "1.   Es para cuando los índices son 0\n",
        "2.   La segunda sirve para no agregar elementos a la mochila por qué excede la capacidad\n",
        "3.   Agrega elementos si es que aumenta el valor de la mochila\n",
        "\n",
        "Desarrollando la correctitud por inducción\n",
        "\n",
        "**Caso base**: m[i, 0] = m[0, j] = 1 para todo i, j\n",
        "\n",
        "Este caso base e para cuando el valor máximo es el mismo\n",
        "\n",
        "**Paso inductivo**:\n",
        "\n",
        "Para cada m el valor óptimo se encuentra gracias a la sub estructura óptima donde los sub. Problemas siempre estarán correctos.\n",
        "\n",
        "**Correctitud (Forma greedy)**:\n",
        "\n",
        "Si analizamos ambos algoritmos con los mismos valores de entrada nos daremos cuenta de que no son iguales, esto ocurre debido a la manera que funciona que se explicó antes, además sabemos que es un algoritmo voraz, es uno que realiza, en cada momento, la acción que parece ser la mejor.\n"
      ],
      "metadata": {
        "id": "XtxzMIwcc-gC"
      }
    },
    {
      "cell_type": "markdown",
      "source": [
        "# **4.Tiempo de ejecucion**"
      ],
      "metadata": {
        "id": "ADlHB_59cAeI"
      }
    },
    {
      "cell_type": "markdown",
      "source": [
        "\n",
        "\n",
        "**Algoritmo Bottom-Up**:\n",
        "\n",
        "Contenemos dos ciclos anidados:\n",
        "\n",
        "  *Filas:* $O(i)$\n",
        "  \n",
        "  *Variable de peso:* $O(p)$\n",
        "\n",
        "Obtener la solución óptima: $O(1)$ \n",
        "\n",
        "Se debe iterar i x p cantidad de veces, donde i = n.\n",
        "\n",
        "**Por lo que el tiempo de ejecución de este algoritmo es de**: $O(n * p)$\n",
        "\n",
        "\n",
        "**Algoritmo Greedy**:\n",
        "\n",
        "En este algoritmo tenermos que realizar:\n",
        "\n",
        "Ordenar los valores : $O(n * log(n))$\n",
        "\n",
        "Obtener la solución óptima : $O(n)$\n",
        "\n",
        "**Por lo que el tiempo de ejecución de este algoritmo es de**: $O(n * log(n))$"
      ],
      "metadata": {
        "id": "iobB9-qTPXXU"
      }
    },
    {
      "cell_type": "markdown",
      "source": [
        "# **5.Experimentos**"
      ],
      "metadata": {
        "id": "ZOJtoa3Uz0Ba"
      }
    },
    {
      "cell_type": "markdown",
      "source": [
        "### **Comparar los tiempos de ambos algoritmos en función del tamaño de entrada.**"
      ],
      "metadata": {
        "id": "tReHy6dZMPoS"
      }
    },
    {
      "cell_type": "code",
      "source": [
        "import random\n",
        "import numpy as np\n",
        "from timeit import repeat\n",
        "import matplotlib.pyplot as plt\n",
        "\n",
        "x=[]; y1=[]; y2=[];\n",
        "\n",
        "for n in range(5,10):\n",
        "  W, val, wt = knapsack_instance_generator(n)\n",
        "  n = len(val)\n",
        "  verbose = False\n",
        "  cont = [0]\n",
        "  cont2 = [0]\n",
        "  t1= repeat(setup=\"from __main__ import knapSack_dinamico\", stmt=f\"knapSack_dinamico({W},{wt},{val},{n},{cont},{verbose})\", repeat=1, number=10)\n",
        "  t2 = repeat(setup=\"from __main__ import KnapSack_greedy\", stmt=f\"KnapSack_greedy({val},{wt},{W},{n},{cont2},{verbose})\", repeat=1, number=10)\n",
        "\n",
        "  x.append(n)\n",
        "  y1.append(t1)\n",
        "  y2.append(t2)\n",
        "\n",
        "plt.plot(x,y1)\n",
        "plt.plot(x,y2)\n",
        "plt.legend([\"knapSack_dinamico\", \"KnapSack_greedy\"])\n",
        "\n",
        "plt.xlabel('n')\n",
        "plt.ylabel('Tiempo en ms')\n",
        "plt.show()"
      ],
      "metadata": {
        "id": "LTD7LhQYz4mG",
        "outputId": "c6e1c426-57cd-46dc-ae38-90b23614fc39",
        "colab": {
          "base_uri": "https://localhost:8080/",
          "height": 279
        }
      },
      "execution_count": 101,
      "outputs": [
        {
          "output_type": "display_data",
          "data": {
            "text/plain": [
              "<Figure size 432x288 with 1 Axes>"
            ],
            "image/png": "[encoded data removed]"
          },
          "metadata": {
            "needs_background": "light"
          }
        }
      ]
    },
    {
      "cell_type": "markdown",
      "source": [
        "### **La cantidad de iteraciones/subproblemas que realizan los algoritmos en función del tamaño de entrada.**"
      ],
      "metadata": {
        "id": "A9nIE2ueMYbD"
      }
    },
    {
      "cell_type": "code",
      "source": [
        "x=[n for n in range(5,100)] \n",
        "y=[]; \n",
        "z=[];\n",
        "\n",
        "for n in range(5,100):\n",
        "  W, val, wt = knapsack_instance_generator(n)\n",
        "  verbose=False\n",
        "  cont = [0]\n",
        "  knapSack_dinamico(W, wt, val, len(val),cont,verbose)\n",
        "\n",
        "  cont2 = [0]\n",
        "  KnapSack_greedy(val, wt, W, len(val),cont2,verbose)\n",
        "\n",
        "  y.append(cont)\n",
        "  z.append(cont2)\n",
        "\n",
        "plt.plot(x,y)\n",
        "plt.plot(x,z)\n",
        "plt.legend([\"KnapSack\", \"GreedyKnapSack\"])\n",
        "\n",
        "plt.xlabel('n')\n",
        "plt.ylabel('Cantidad de iteraciones/sub-problemas resueltos')\n",
        "plt.show()\n"
      ],
      "metadata": {
        "id": "FEA8h-Rbz4xi",
        "colab": {
          "base_uri": "https://localhost:8080/",
          "height": 293
        },
        "outputId": "98c5ba49-f966-49d9-f90b-dfc7d66513f1"
      },
      "execution_count": 105,
      "outputs": [
        {
          "output_type": "display_data",
          "data": {
            "text/plain": [
              "<Figure size 432x288 with 1 Axes>"
            ],
            "image/png": "[encoded data removed]"
          },
          "metadata": {
            "needs_background": "light"
          }
        }
      ]
    },
    {
      "cell_type": "code",
      "source": [
        "x=[n for n in range(1,20)] \n",
        "y=[]; \n",
        "z=[];\n",
        "\n",
        "for n in range(1,20):\n",
        "\n",
        "\n",
        "  W, val, wt = knapsack_instance_generator(n)\n",
        "  verbose=False\n",
        "  cont = [0]\n",
        "  a = knapSack_dinamico(W, wt, val, len(val),cont,verbose)\n",
        "\n",
        "  cont2 = [0]\n",
        "  b = KnapSack_greedy(val, wt, W, len(val),cont2,verbose)\n",
        "\n",
        "  y.append(a)\n",
        "  z.append(b)\n",
        "\n",
        "plt.plot(x,y)\n",
        "plt.plot(x,z)\n",
        "plt.legend([\"KnapSack\", \"GreedyKnapSack\"])\n",
        "\n",
        "plt.xlabel('n')\n",
        "plt.ylabel('Solución obtenida')\n",
        "plt.show()"
      ],
      "metadata": {
        "colab": {
          "base_uri": "https://localhost:8080/",
          "height": 279
        },
        "id": "08DdMDXuT7K7",
        "outputId": "cc418ccf-fd9e-4f15-b929-ad89d9ff6894"
      },
      "execution_count": 109,
      "outputs": [
        {
          "output_type": "display_data",
          "data": {
            "text/plain": [
              "<Figure size 432x288 with 1 Axes>"
            ],
            "image/png": "[encoded data removed]"
          },
          "metadata": {
            "needs_background": "light"
          }
        }
      ]
    },
    {
      "cell_type": "markdown",
      "source": [
        "# **6.Análisis de resultados**"
      ],
      "metadata": {
        "id": "ojHEniaVMfiY"
      }
    },
    {
      "cell_type": "markdown",
      "source": [
        "### **Gráfico 1:**\n",
        "\n",
        "En el primer gráfico, el tiempo de ejecición del algoritmo dinamico para resolver este problema, el resultado confirma lo visto anteriormente donde la complejidad es O(n*p) y en que usa el metodo greedy es O(n^2) aunque se vea como linea recta es producto que el tiempo de ejecucion del metodo dinamico es muy alto.\n"
      ],
      "metadata": {
        "id": "SlpunFLYMm8R"
      }
    },
    {
      "cell_type": "markdown",
      "source": [
        "### **Gráfico 2:**\n",
        "\n",
        "Es evidente como crece la cantidad de sub-problema que tiene que resolver el metodo dinamico lo que nos ratifica el por que se demora tanto en ejecutarse el algoritmo dinamico, y se nota que el metodo greedy solo itera n veces\n"
      ],
      "metadata": {
        "id": "1DCgHB74Pmsd"
      }
    },
    {
      "cell_type": "markdown",
      "source": [
        "### **Gráfico 3:**\n",
        "\n",
        "Al ver el gráfico detalladamente se aprecia que no obtienen la misma precisión en los datos, esto se explica en la correctitud y confirma que la programación dinámica logra la solución óptima, en cambio, el método greedy no siempre será el más óptimo\n"
      ],
      "metadata": {
        "id": "zJQwC1BgPm8y"
      }
    }
  ]
}